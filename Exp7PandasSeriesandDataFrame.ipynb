{
  "nbformat": 4,
  "nbformat_minor": 0,
  "metadata": {
    "colab": {
      "provenance": [],
      "authorship_tag": "ABX9TyNe4JH/QTBIN7EhCNWEndY8",
      "include_colab_link": true
    },
    "kernelspec": {
      "name": "python3",
      "display_name": "Python 3"
    },
    "language_info": {
      "name": "python"
    }
  },
  "cells": [
    {
      "cell_type": "markdown",
      "metadata": {
        "id": "view-in-github",
        "colab_type": "text"
      },
      "source": [
        "<a href=\"https://colab.research.google.com/github/rajucherry03/Python-For-Data-Science/blob/main/Exp7PandasSeriesandDataFrame.ipynb\" target=\"_parent\"><img src=\"https://colab.research.google.com/assets/colab-badge.svg\" alt=\"Open In Colab\"/></a>"
      ]
    },
    {
      "cell_type": "code",
      "execution_count": 1,
      "metadata": {
        "id": "MHxJd9CegiVs"
      },
      "outputs": [],
      "source": [
        "import pandas as pd\n",
        "import numpy as np"
      ]
    },
    {
      "cell_type": "code",
      "source": [
        "#series()\n",
        "series=pd.Series([\"ram\",\"sam\",\"jam\",\"tom\"])\n",
        "print(series)"
      ],
      "metadata": {
        "colab": {
          "base_uri": "https://localhost:8080/"
        },
        "id": "NtdDO7eqmjhG",
        "outputId": "dd82ecd4-1187-4266-e870-8bc32857d01d"
      },
      "execution_count": 2,
      "outputs": [
        {
          "output_type": "stream",
          "name": "stdout",
          "text": [
            "0    ram\n",
            "1    sam\n",
            "2    jam\n",
            "3    tom\n",
            "dtype: object\n"
          ]
        }
      ]
    },
    {
      "cell_type": "code",
      "source": [
        "#type\n",
        "print(type(series))"
      ],
      "metadata": {
        "colab": {
          "base_uri": "https://localhost:8080/"
        },
        "id": "a4NYkPism7nU",
        "outputId": "e5b12d81-8791-44cf-eabd-fb631559178b"
      },
      "execution_count": 3,
      "outputs": [
        {
          "output_type": "stream",
          "name": "stdout",
          "text": [
            "<class 'pandas.core.series.Series'>\n"
          ]
        }
      ]
    },
    {
      "cell_type": "code",
      "source": [
        "#length\n",
        "lh=len(series)\n",
        "print(lh)"
      ],
      "metadata": {
        "colab": {
          "base_uri": "https://localhost:8080/"
        },
        "id": "oXhPClI-rmNn",
        "outputId": "a11fbc2b-6e71-4b6c-d402-b89f2313761b"
      },
      "execution_count": 11,
      "outputs": [
        {
          "output_type": "stream",
          "name": "stdout",
          "text": [
            "4\n"
          ]
        }
      ]
    },
    {
      "cell_type": "code",
      "source": [
        "#changing index value\n",
        "dict={1:[10,20,30],2:[10,20,30],\"A\":[10,20,30],3:[10,20,30]}\n",
        "df=pd.Series(dict)\n",
        "print(df)"
      ],
      "metadata": {
        "colab": {
          "base_uri": "https://localhost:8080/"
        },
        "id": "gB6S9SUJniit",
        "outputId": "6c12b650-e758-46ca-b9c3-8e79f4252266"
      },
      "execution_count": 6,
      "outputs": [
        {
          "output_type": "stream",
          "name": "stdout",
          "text": [
            "1    [10, 20, 30]\n",
            "2    [10, 20, 30]\n",
            "A    [10, 20, 30]\n",
            "3    [10, 20, 30]\n",
            "dtype: object\n"
          ]
        }
      ]
    },
    {
      "cell_type": "code",
      "source": [
        "#create pandas series with list\n",
        "ls1=[10,20,30]\n",
        "ls2=[1,2,3]\n",
        "ls=pd.Series(ls1)\n",
        "lss=pd.Series(ls2)\n",
        "frame={\"Group1\":ls,\"Group2\":lss}\n",
        "result=pd.DataFrame(frame)\n",
        "print(result)"
      ],
      "metadata": {
        "colab": {
          "base_uri": "https://localhost:8080/"
        },
        "id": "2N4YYJYfoL1j",
        "outputId": "e788d7c8-5ff2-460a-f788-be35a6bb6a80"
      },
      "execution_count": 15,
      "outputs": [
        {
          "output_type": "stream",
          "name": "stdout",
          "text": [
            "   Group1  Group2\n",
            "0      10       1\n",
            "1      20       2\n",
            "2      30       3\n"
          ]
        }
      ]
    },
    {
      "cell_type": "code",
      "source": [
        "x=pd.Series(3,index=[1,2,3,4,5])\n",
        "print(x)"
      ],
      "metadata": {
        "colab": {
          "base_uri": "https://localhost:8080/"
        },
        "id": "UzBfzJ4FuLDF",
        "outputId": "6a2b083e-e5ba-4447-c5a6-2cf8a9dd6dfa"
      },
      "execution_count": 14,
      "outputs": [
        {
          "output_type": "stream",
          "name": "stdout",
          "text": [
            "1    3\n",
            "2    3\n",
            "3    3\n",
            "4    3\n",
            "5    3\n",
            "dtype: int64\n"
          ]
        }
      ]
    },
    {
      "cell_type": "code",
      "source": [
        "#dataframe from dict of series\n",
        "data=pd.DataFrame({1:[1,2,3],2:[1,2,3],3:[1,2,3]})\n",
        "print(data)"
      ],
      "metadata": {
        "colab": {
          "base_uri": "https://localhost:8080/"
        },
        "id": "tDiao5OFwc_Y",
        "outputId": "a4cc0ffd-3d85-4c9e-e72c-5d679d53c1b2"
      },
      "execution_count": 20,
      "outputs": [
        {
          "output_type": "stream",
          "name": "stdout",
          "text": [
            "   1  2  3\n",
            "0  1  1  1\n",
            "1  2  2  2\n",
            "2  3  3  3\n"
          ]
        }
      ]
    },
    {
      "cell_type": "code",
      "source": [
        "#pandas dataframe into series\n",
        "data=pd.DataFrame({\"maths\":pd.Series([10,20,30]),\"eng\":pd.Series([10,20,30]),\"ds\":pd.Series([10,20,30]),})\n",
        "print(data)"
      ],
      "metadata": {
        "colab": {
          "base_uri": "https://localhost:8080/"
        },
        "id": "y2zq39rq0_TT",
        "outputId": "90d8521a-551e-452e-b680-863ba70e31ac"
      },
      "execution_count": 24,
      "outputs": [
        {
          "output_type": "stream",
          "name": "stdout",
          "text": [
            "   maths  eng  ds\n",
            "0     10   10  10\n",
            "1     20   20  20\n",
            "2     30   30  30\n"
          ]
        }
      ]
    },
    {
      "cell_type": "code",
      "source": [],
      "metadata": {
        "id": "gGeq8OGW1pq0"
      },
      "execution_count": null,
      "outputs": []
    }
  ]
}