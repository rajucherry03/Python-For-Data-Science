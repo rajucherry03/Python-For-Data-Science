{
  "nbformat": 4,
  "nbformat_minor": 0,
  "metadata": {
    "colab": {
      "provenance": [],
      "authorship_tag": "ABX9TyO9PD1O1Anbbq32MwCVNR0H",
      "include_colab_link": true
    },
    "kernelspec": {
      "name": "python3",
      "display_name": "Python 3"
    },
    "language_info": {
      "name": "python"
    }
  },
  "cells": [
    {
      "cell_type": "markdown",
      "metadata": {
        "id": "view-in-github",
        "colab_type": "text"
      },
      "source": [
        "<a href=\"https://colab.research.google.com/github/rajucherry03/Python-For-Data-Science/blob/main/Exp6.ipynb\" target=\"_parent\"><img src=\"https://colab.research.google.com/assets/colab-badge.svg\" alt=\"Open In Colab\"/></a>"
      ]
    },
    {
      "cell_type": "code",
      "execution_count": 3,
      "metadata": {
        "colab": {
          "base_uri": "https://localhost:8080/"
        },
        "id": "J4LRDF94d6NP",
        "outputId": "02bfa8ce-26bc-4cb7-97af-cba5882b3f0a"
      },
      "outputs": [
        {
          "output_type": "stream",
          "name": "stdout",
          "text": [
            "[5 6 7]\n",
            "0.816496580927726\n"
          ]
        }
      ],
      "source": [
        "#Standard Deviation\n",
        "import numpy as np\n",
        "a=np.array([5,6,7])\n",
        "print(a)\n",
        "print(np.std(a))"
      ]
    },
    {
      "cell_type": "code",
      "source": [
        "#Varience\n",
        "a=np.array([[1,2],[3,4]])\n",
        "print(a)\n",
        "print(np.var(a))"
      ],
      "metadata": {
        "colab": {
          "base_uri": "https://localhost:8080/"
        },
        "id": "KHVtv7wtfNrH",
        "outputId": "287f0486-e3f3-4d1d-b8fe-86e7c44741ff"
      },
      "execution_count": 4,
      "outputs": [
        {
          "output_type": "stream",
          "name": "stdout",
          "text": [
            "[[1 2]\n",
            " [3 4]]\n",
            "1.25\n"
          ]
        }
      ]
    },
    {
      "cell_type": "code",
      "source": [
        "#Median\n",
        "a=np.array([1,2,3])\n",
        "print(a)\n",
        "print(np.median(a))"
      ],
      "metadata": {
        "colab": {
          "base_uri": "https://localhost:8080/"
        },
        "id": "w6ybXn9vfhME",
        "outputId": "3f1e35b2-508d-4009-e107-eb4cbb65dea4"
      },
      "execution_count": 5,
      "outputs": [
        {
          "output_type": "stream",
          "name": "stdout",
          "text": [
            "[1 2 3]\n",
            "2.0\n"
          ]
        }
      ]
    },
    {
      "cell_type": "code",
      "source": [
        "#Mode\n",
        "from scipy import stats as st\n",
        "a=np.array([1,2,3,3,3,4])\n",
        "print(a)\n",
        "print(st.mode(a))"
      ],
      "metadata": {
        "colab": {
          "base_uri": "https://localhost:8080/"
        },
        "id": "-PRtV-NLf1iv",
        "outputId": "ae3d4449-1691-4f74-e5b9-58fb2a94bb6e"
      },
      "execution_count": 8,
      "outputs": [
        {
          "output_type": "stream",
          "name": "stdout",
          "text": [
            "[1 2 3 3 3 4]\n",
            "ModeResult(mode=array([3]), count=array([3]))\n"
          ]
        },
        {
          "output_type": "stream",
          "name": "stderr",
          "text": [
            "<ipython-input-8-33c0460322a8>:5: FutureWarning: Unlike other reduction functions (e.g. `skew`, `kurtosis`), the default behavior of `mode` typically preserves the axis it acts along. In SciPy 1.11.0, this behavior will change: the default value of `keepdims` will become False, the `axis` over which the statistic is taken will be eliminated, and the value None will no longer be accepted. Set `keepdims` to True or False to avoid this warning.\n",
            "  print(st.mode(a))\n"
          ]
        }
      ]
    },
    {
      "cell_type": "code",
      "source": [
        "#Mean \n",
        "a=np.array([5,6,7])\n",
        "print(a)\n",
        "b=np.mean(a)\n",
        "print(b)"
      ],
      "metadata": {
        "colab": {
          "base_uri": "https://localhost:8080/"
        },
        "id": "fKgq_yvlgjYf",
        "outputId": "a4510f98-4847-4fbd-a572-1d6145e8b3ed"
      },
      "execution_count": 9,
      "outputs": [
        {
          "output_type": "stream",
          "name": "stdout",
          "text": [
            "[5 6 7]\n",
            "6.0\n"
          ]
        }
      ]
    },
    {
      "cell_type": "markdown",
      "source": [
        "**Applying Statistical Function on csv**"
      ],
      "metadata": {
        "id": "DJda7xSxgzqm"
      }
    },
    {
      "cell_type": "code",
      "source": [],
      "metadata": {
        "id": "SRt7H_fbg9Du"
      },
      "execution_count": null,
      "outputs": []
    }
  ]
}