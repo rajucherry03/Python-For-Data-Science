{
  "nbformat": 4,
  "nbformat_minor": 0,
  "metadata": {
    "colab": {
      "provenance": [],
      "mount_file_id": "1z4-D1T1o0JFk_I6RsZuS17nn-n9JSchn",
      "authorship_tag": "ABX9TyMW7CbeP+wc3biCfMWqIqmc",
      "include_colab_link": true
    },
    "kernelspec": {
      "name": "python3",
      "display_name": "Python 3"
    },
    "language_info": {
      "name": "python"
    }
  },
  "cells": [
    {
      "cell_type": "markdown",
      "metadata": {
        "id": "view-in-github",
        "colab_type": "text"
      },
      "source": [
        "<a href=\"https://colab.research.google.com/github/rajucherry03/Python-For-Data-Science/blob/main/Exp6.ipynb\" target=\"_parent\"><img src=\"https://colab.research.google.com/assets/colab-badge.svg\" alt=\"Open In Colab\"/></a>"
      ]
    },
    {
      "cell_type": "code",
      "execution_count": null,
      "metadata": {
        "colab": {
          "base_uri": "https://localhost:8080/"
        },
        "id": "J4LRDF94d6NP",
        "outputId": "02bfa8ce-26bc-4cb7-97af-cba5882b3f0a"
      },
      "outputs": [
        {
          "output_type": "stream",
          "name": "stdout",
          "text": [
            "[5 6 7]\n",
            "0.816496580927726\n"
          ]
        }
      ],
      "source": [
        "#Standard Deviation\n",
        "import numpy as np\n",
        "a=np.array([5,6,7])\n",
        "print(a)\n",
        "print(np.std(a))"
      ]
    },
    {
      "cell_type": "code",
      "source": [
        "#Varience\n",
        "a=np.array([[1,2],[3,4]])\n",
        "print(a)\n",
        "print(np.var(a))"
      ],
      "metadata": {
        "colab": {
          "base_uri": "https://localhost:8080/"
        },
        "id": "KHVtv7wtfNrH",
        "outputId": "287f0486-e3f3-4d1d-b8fe-86e7c44741ff"
      },
      "execution_count": null,
      "outputs": [
        {
          "output_type": "stream",
          "name": "stdout",
          "text": [
            "[[1 2]\n",
            " [3 4]]\n",
            "1.25\n"
          ]
        }
      ]
    },
    {
      "cell_type": "code",
      "source": [
        "#Median\n",
        "a=np.array([1,2,3])\n",
        "print(a)\n",
        "print(np.median(a))"
      ],
      "metadata": {
        "colab": {
          "base_uri": "https://localhost:8080/"
        },
        "id": "w6ybXn9vfhME",
        "outputId": "3f1e35b2-508d-4009-e107-eb4cbb65dea4"
      },
      "execution_count": null,
      "outputs": [
        {
          "output_type": "stream",
          "name": "stdout",
          "text": [
            "[1 2 3]\n",
            "2.0\n"
          ]
        }
      ]
    },
    {
      "cell_type": "code",
      "source": [
        "#Mode\n",
        "from scipy import stats as st\n",
        "a=np.array([1,2,3,3,3,4])\n",
        "print(a)\n",
        "print(st.mode(a))"
      ],
      "metadata": {
        "colab": {
          "base_uri": "https://localhost:8080/"
        },
        "id": "-PRtV-NLf1iv",
        "outputId": "ae3d4449-1691-4f74-e5b9-58fb2a94bb6e"
      },
      "execution_count": null,
      "outputs": [
        {
          "output_type": "stream",
          "name": "stdout",
          "text": [
            "[1 2 3 3 3 4]\n",
            "ModeResult(mode=array([3]), count=array([3]))\n"
          ]
        },
        {
          "output_type": "stream",
          "name": "stderr",
          "text": [
            "<ipython-input-8-33c0460322a8>:5: FutureWarning: Unlike other reduction functions (e.g. `skew`, `kurtosis`), the default behavior of `mode` typically preserves the axis it acts along. In SciPy 1.11.0, this behavior will change: the default value of `keepdims` will become False, the `axis` over which the statistic is taken will be eliminated, and the value None will no longer be accepted. Set `keepdims` to True or False to avoid this warning.\n",
            "  print(st.mode(a))\n"
          ]
        }
      ]
    },
    {
      "cell_type": "code",
      "source": [
        "#Mean \n",
        "a=np.array([5,6,7])\n",
        "print(a)\n",
        "b=np.mean(a)\n",
        "print(b)"
      ],
      "metadata": {
        "colab": {
          "base_uri": "https://localhost:8080/"
        },
        "id": "fKgq_yvlgjYf",
        "outputId": "a4510f98-4847-4fbd-a572-1d6145e8b3ed"
      },
      "execution_count": null,
      "outputs": [
        {
          "output_type": "stream",
          "name": "stdout",
          "text": [
            "[5 6 7]\n",
            "6.0\n"
          ]
        }
      ]
    },
    {
      "cell_type": "markdown",
      "source": [
        "**Applying Statistical Function on csv**"
      ],
      "metadata": {
        "id": "DJda7xSxgzqm"
      }
    },
    {
      "cell_type": "code",
      "source": [
        "from google.colab import drive\n",
        "drive.mount('/content/drive/')"
      ],
      "metadata": {
        "colab": {
          "base_uri": "https://localhost:8080/"
        },
        "id": "SRt7H_fbg9Du",
        "outputId": "ecef79d9-5bb4-4a74-febd-69dc8cb7aca8"
      },
      "execution_count": null,
      "outputs": [
        {
          "output_type": "stream",
          "name": "stdout",
          "text": [
            "Mounted at /content/drive/\n"
          ]
        }
      ]
    },
    {
      "cell_type": "code",
      "source": [
        "import pandas as pd\n",
        "df=pd.read_csv('/content/drive/MyDrive/1-Pds Lab/sales_team.csv')\n",
        "df.head()"
      ],
      "metadata": {
        "colab": {
          "base_uri": "https://localhost:8080/",
          "height": 206
        },
        "id": "ZJpvluZXhmJe",
        "outputId": "6a1cffd5-2d32-4a18-8176-4d583570fc97"
      },
      "execution_count": 20,
      "outputs": [
        {
          "output_type": "execute_result",
          "data": {
            "text/plain": [
              "   Customer Number     Customer Name         2016          2017  \\\n",
              "0          10002.0  Quest Industries  $125,000.00    $162500.00   \n",
              "1         552278.0    Smith Plumbing  $920,000.00  $101,2000.00   \n",
              "2          23477.0   ACME Industrial   $50,000.00     $62500.00   \n",
              "3          24900.0        Brekke LTD  $350,000.00    $490000.00   \n",
              "4         651029.0         Harbor Co   $15,000.00     $12750.00   \n",
              "\n",
              "  Percent Growth Jan Units  Month  Day  Year Active  \n",
              "0         30.00%       500      1   10  2015      Y  \n",
              "1         10.00%       700      6   15  2014      Y  \n",
              "2         25.00%       125      3   29  2016      Y  \n",
              "3          4.00%        75     10   27  2015      Y  \n",
              "4        -15.00%    Closed      2    2  2014      N  "
            ],
            "text/html": [
              "\n",
              "  <div id=\"df-95f48c34-7a8c-490a-b8b6-523579e6d993\">\n",
              "    <div class=\"colab-df-container\">\n",
              "      <div>\n",
              "<style scoped>\n",
              "    .dataframe tbody tr th:only-of-type {\n",
              "        vertical-align: middle;\n",
              "    }\n",
              "\n",
              "    .dataframe tbody tr th {\n",
              "        vertical-align: top;\n",
              "    }\n",
              "\n",
              "    .dataframe thead th {\n",
              "        text-align: right;\n",
              "    }\n",
              "</style>\n",
              "<table border=\"1\" class=\"dataframe\">\n",
              "  <thead>\n",
              "    <tr style=\"text-align: right;\">\n",
              "      <th></th>\n",
              "      <th>Customer Number</th>\n",
              "      <th>Customer Name</th>\n",
              "      <th>2016</th>\n",
              "      <th>2017</th>\n",
              "      <th>Percent Growth</th>\n",
              "      <th>Jan Units</th>\n",
              "      <th>Month</th>\n",
              "      <th>Day</th>\n",
              "      <th>Year</th>\n",
              "      <th>Active</th>\n",
              "    </tr>\n",
              "  </thead>\n",
              "  <tbody>\n",
              "    <tr>\n",
              "      <th>0</th>\n",
              "      <td>10002.0</td>\n",
              "      <td>Quest Industries</td>\n",
              "      <td>$125,000.00</td>\n",
              "      <td>$162500.00</td>\n",
              "      <td>30.00%</td>\n",
              "      <td>500</td>\n",
              "      <td>1</td>\n",
              "      <td>10</td>\n",
              "      <td>2015</td>\n",
              "      <td>Y</td>\n",
              "    </tr>\n",
              "    <tr>\n",
              "      <th>1</th>\n",
              "      <td>552278.0</td>\n",
              "      <td>Smith Plumbing</td>\n",
              "      <td>$920,000.00</td>\n",
              "      <td>$101,2000.00</td>\n",
              "      <td>10.00%</td>\n",
              "      <td>700</td>\n",
              "      <td>6</td>\n",
              "      <td>15</td>\n",
              "      <td>2014</td>\n",
              "      <td>Y</td>\n",
              "    </tr>\n",
              "    <tr>\n",
              "      <th>2</th>\n",
              "      <td>23477.0</td>\n",
              "      <td>ACME Industrial</td>\n",
              "      <td>$50,000.00</td>\n",
              "      <td>$62500.00</td>\n",
              "      <td>25.00%</td>\n",
              "      <td>125</td>\n",
              "      <td>3</td>\n",
              "      <td>29</td>\n",
              "      <td>2016</td>\n",
              "      <td>Y</td>\n",
              "    </tr>\n",
              "    <tr>\n",
              "      <th>3</th>\n",
              "      <td>24900.0</td>\n",
              "      <td>Brekke LTD</td>\n",
              "      <td>$350,000.00</td>\n",
              "      <td>$490000.00</td>\n",
              "      <td>4.00%</td>\n",
              "      <td>75</td>\n",
              "      <td>10</td>\n",
              "      <td>27</td>\n",
              "      <td>2015</td>\n",
              "      <td>Y</td>\n",
              "    </tr>\n",
              "    <tr>\n",
              "      <th>4</th>\n",
              "      <td>651029.0</td>\n",
              "      <td>Harbor Co</td>\n",
              "      <td>$15,000.00</td>\n",
              "      <td>$12750.00</td>\n",
              "      <td>-15.00%</td>\n",
              "      <td>Closed</td>\n",
              "      <td>2</td>\n",
              "      <td>2</td>\n",
              "      <td>2014</td>\n",
              "      <td>N</td>\n",
              "    </tr>\n",
              "  </tbody>\n",
              "</table>\n",
              "</div>\n",
              "      <button class=\"colab-df-convert\" onclick=\"convertToInteractive('df-95f48c34-7a8c-490a-b8b6-523579e6d993')\"\n",
              "              title=\"Convert this dataframe to an interactive table.\"\n",
              "              style=\"display:none;\">\n",
              "        \n",
              "  <svg xmlns=\"http://www.w3.org/2000/svg\" height=\"24px\"viewBox=\"0 0 24 24\"\n",
              "       width=\"24px\">\n",
              "    <path d=\"M0 0h24v24H0V0z\" fill=\"none\"/>\n",
              "    <path d=\"M18.56 5.44l.94 2.06.94-2.06 2.06-.94-2.06-.94-.94-2.06-.94 2.06-2.06.94zm-11 1L8.5 8.5l.94-2.06 2.06-.94-2.06-.94L8.5 2.5l-.94 2.06-2.06.94zm10 10l.94 2.06.94-2.06 2.06-.94-2.06-.94-.94-2.06-.94 2.06-2.06.94z\"/><path d=\"M17.41 7.96l-1.37-1.37c-.4-.4-.92-.59-1.43-.59-.52 0-1.04.2-1.43.59L10.3 9.45l-7.72 7.72c-.78.78-.78 2.05 0 2.83L4 21.41c.39.39.9.59 1.41.59.51 0 1.02-.2 1.41-.59l7.78-7.78 2.81-2.81c.8-.78.8-2.07 0-2.86zM5.41 20L4 18.59l7.72-7.72 1.47 1.35L5.41 20z\"/>\n",
              "  </svg>\n",
              "      </button>\n",
              "      \n",
              "  <style>\n",
              "    .colab-df-container {\n",
              "      display:flex;\n",
              "      flex-wrap:wrap;\n",
              "      gap: 12px;\n",
              "    }\n",
              "\n",
              "    .colab-df-convert {\n",
              "      background-color: #E8F0FE;\n",
              "      border: none;\n",
              "      border-radius: 50%;\n",
              "      cursor: pointer;\n",
              "      display: none;\n",
              "      fill: #1967D2;\n",
              "      height: 32px;\n",
              "      padding: 0 0 0 0;\n",
              "      width: 32px;\n",
              "    }\n",
              "\n",
              "    .colab-df-convert:hover {\n",
              "      background-color: #E2EBFA;\n",
              "      box-shadow: 0px 1px 2px rgba(60, 64, 67, 0.3), 0px 1px 3px 1px rgba(60, 64, 67, 0.15);\n",
              "      fill: #174EA6;\n",
              "    }\n",
              "\n",
              "    [theme=dark] .colab-df-convert {\n",
              "      background-color: #3B4455;\n",
              "      fill: #D2E3FC;\n",
              "    }\n",
              "\n",
              "    [theme=dark] .colab-df-convert:hover {\n",
              "      background-color: #434B5C;\n",
              "      box-shadow: 0px 1px 3px 1px rgba(0, 0, 0, 0.15);\n",
              "      filter: drop-shadow(0px 1px 2px rgba(0, 0, 0, 0.3));\n",
              "      fill: #FFFFFF;\n",
              "    }\n",
              "  </style>\n",
              "\n",
              "      <script>\n",
              "        const buttonEl =\n",
              "          document.querySelector('#df-95f48c34-7a8c-490a-b8b6-523579e6d993 button.colab-df-convert');\n",
              "        buttonEl.style.display =\n",
              "          google.colab.kernel.accessAllowed ? 'block' : 'none';\n",
              "\n",
              "        async function convertToInteractive(key) {\n",
              "          const element = document.querySelector('#df-95f48c34-7a8c-490a-b8b6-523579e6d993');\n",
              "          const dataTable =\n",
              "            await google.colab.kernel.invokeFunction('convertToInteractive',\n",
              "                                                     [key], {});\n",
              "          if (!dataTable) return;\n",
              "\n",
              "          const docLinkHtml = 'Like what you see? Visit the ' +\n",
              "            '<a target=\"_blank\" href=https://colab.research.google.com/notebooks/data_table.ipynb>data table notebook</a>'\n",
              "            + ' to learn more about interactive tables.';\n",
              "          element.innerHTML = '';\n",
              "          dataTable['output_type'] = 'display_data';\n",
              "          await google.colab.output.renderOutput(dataTable, element);\n",
              "          const docLink = document.createElement('div');\n",
              "          docLink.innerHTML = docLinkHtml;\n",
              "          element.appendChild(docLink);\n",
              "        }\n",
              "      </script>\n",
              "    </div>\n",
              "  </div>\n",
              "  "
            ]
          },
          "metadata": {},
          "execution_count": 20
        }
      ]
    },
    {
      "cell_type": "code",
      "source": [
        "df['2016']+df['2017']"
      ],
      "metadata": {
        "colab": {
          "base_uri": "https://localhost:8080/"
        },
        "id": "-3wy9MqH1Bp_",
        "outputId": "4accf6be-52c4-463b-9cdf-8ba085af18fc"
      },
      "execution_count": 28,
      "outputs": [
        {
          "output_type": "execute_result",
          "data": {
            "text/plain": [
              "0      $125,000.00$162500.00\n",
              "1    $920,000.00$101,2000.00\n",
              "2        $50,000.00$62500.00\n",
              "3      $350,000.00$490000.00\n",
              "4        $15,000.00$12750.00\n",
              "dtype: object"
            ]
          },
          "metadata": {},
          "execution_count": 28
        }
      ]
    },
    {
      "cell_type": "code",
      "source": [
        "df['Day']+df['Month']"
      ],
      "metadata": {
        "colab": {
          "base_uri": "https://localhost:8080/"
        },
        "id": "jkD3Mg1e1Cfn",
        "outputId": "38e2e4d7-ee74-41a9-b6c3-480ee0d85467"
      },
      "execution_count": 29,
      "outputs": [
        {
          "output_type": "execute_result",
          "data": {
            "text/plain": [
              "0    11\n",
              "1    21\n",
              "2    32\n",
              "3    37\n",
              "4     4\n",
              "dtype: int64"
            ]
          },
          "metadata": {},
          "execution_count": 29
        }
      ]
    },
    {
      "cell_type": "code",
      "source": [
        "df.dtypes"
      ],
      "metadata": {
        "colab": {
          "base_uri": "https://localhost:8080/"
        },
        "id": "5yxwHDkR1Clr",
        "outputId": "9bbd88aa-516d-4629-87d9-40a7b3d11d86"
      },
      "execution_count": 31,
      "outputs": [
        {
          "output_type": "execute_result",
          "data": {
            "text/plain": [
              "Customer Number    float64\n",
              "Customer Name       object\n",
              "2016                object\n",
              "2017                object\n",
              "Percent Growth      object\n",
              "Jan Units           object\n",
              "Month                int64\n",
              "Day                  int64\n",
              "Year                 int64\n",
              "Active              object\n",
              "dtype: object"
            ]
          },
          "metadata": {},
          "execution_count": 31
        }
      ]
    },
    {
      "cell_type": "code",
      "source": [
        "df.columns"
      ],
      "metadata": {
        "colab": {
          "base_uri": "https://localhost:8080/"
        },
        "id": "l37rcPz73ZA3",
        "outputId": "6ff0b5c5-b620-4ca4-899b-a1eaf7a62f61"
      },
      "execution_count": 32,
      "outputs": [
        {
          "output_type": "execute_result",
          "data": {
            "text/plain": [
              "Index(['Customer Number', 'Customer Name', '2016', '2017', 'Percent Growth',\n",
              "       'Jan Units', 'Month', 'Day', 'Year', 'Active'],\n",
              "      dtype='object')"
            ]
          },
          "metadata": {},
          "execution_count": 32
        }
      ]
    },
    {
      "cell_type": "code",
      "source": [
        "df.describe()"
      ],
      "metadata": {
        "colab": {
          "base_uri": "https://localhost:8080/",
          "height": 300
        },
        "id": "AYJlKLOh3ZJj",
        "outputId": "7550227c-33a0-4b1b-f8a9-c2ae5047b8f7"
      },
      "execution_count": 34,
      "outputs": [
        {
          "output_type": "execute_result",
          "data": {
            "text/plain": [
              "       Customer Number      Month        Day        Year\n",
              "count         5.000000   5.000000   5.000000     5.00000\n",
              "mean     252337.200000   4.400000  16.600000  2014.80000\n",
              "std      320838.999788   3.646917  11.414903     0.83666\n",
              "min       10002.000000   1.000000   2.000000  2014.00000\n",
              "25%       23477.000000   2.000000  10.000000  2014.00000\n",
              "50%       24900.000000   3.000000  15.000000  2015.00000\n",
              "75%      552278.000000   6.000000  27.000000  2015.00000\n",
              "max      651029.000000  10.000000  29.000000  2016.00000"
            ],
            "text/html": [
              "\n",
              "  <div id=\"df-ce71b760-117c-41d6-b0af-5b2a59b8629b\">\n",
              "    <div class=\"colab-df-container\">\n",
              "      <div>\n",
              "<style scoped>\n",
              "    .dataframe tbody tr th:only-of-type {\n",
              "        vertical-align: middle;\n",
              "    }\n",
              "\n",
              "    .dataframe tbody tr th {\n",
              "        vertical-align: top;\n",
              "    }\n",
              "\n",
              "    .dataframe thead th {\n",
              "        text-align: right;\n",
              "    }\n",
              "</style>\n",
              "<table border=\"1\" class=\"dataframe\">\n",
              "  <thead>\n",
              "    <tr style=\"text-align: right;\">\n",
              "      <th></th>\n",
              "      <th>Customer Number</th>\n",
              "      <th>Month</th>\n",
              "      <th>Day</th>\n",
              "      <th>Year</th>\n",
              "    </tr>\n",
              "  </thead>\n",
              "  <tbody>\n",
              "    <tr>\n",
              "      <th>count</th>\n",
              "      <td>5.000000</td>\n",
              "      <td>5.000000</td>\n",
              "      <td>5.000000</td>\n",
              "      <td>5.00000</td>\n",
              "    </tr>\n",
              "    <tr>\n",
              "      <th>mean</th>\n",
              "      <td>252337.200000</td>\n",
              "      <td>4.400000</td>\n",
              "      <td>16.600000</td>\n",
              "      <td>2014.80000</td>\n",
              "    </tr>\n",
              "    <tr>\n",
              "      <th>std</th>\n",
              "      <td>320838.999788</td>\n",
              "      <td>3.646917</td>\n",
              "      <td>11.414903</td>\n",
              "      <td>0.83666</td>\n",
              "    </tr>\n",
              "    <tr>\n",
              "      <th>min</th>\n",
              "      <td>10002.000000</td>\n",
              "      <td>1.000000</td>\n",
              "      <td>2.000000</td>\n",
              "      <td>2014.00000</td>\n",
              "    </tr>\n",
              "    <tr>\n",
              "      <th>25%</th>\n",
              "      <td>23477.000000</td>\n",
              "      <td>2.000000</td>\n",
              "      <td>10.000000</td>\n",
              "      <td>2014.00000</td>\n",
              "    </tr>\n",
              "    <tr>\n",
              "      <th>50%</th>\n",
              "      <td>24900.000000</td>\n",
              "      <td>3.000000</td>\n",
              "      <td>15.000000</td>\n",
              "      <td>2015.00000</td>\n",
              "    </tr>\n",
              "    <tr>\n",
              "      <th>75%</th>\n",
              "      <td>552278.000000</td>\n",
              "      <td>6.000000</td>\n",
              "      <td>27.000000</td>\n",
              "      <td>2015.00000</td>\n",
              "    </tr>\n",
              "    <tr>\n",
              "      <th>max</th>\n",
              "      <td>651029.000000</td>\n",
              "      <td>10.000000</td>\n",
              "      <td>29.000000</td>\n",
              "      <td>2016.00000</td>\n",
              "    </tr>\n",
              "  </tbody>\n",
              "</table>\n",
              "</div>\n",
              "      <button class=\"colab-df-convert\" onclick=\"convertToInteractive('df-ce71b760-117c-41d6-b0af-5b2a59b8629b')\"\n",
              "              title=\"Convert this dataframe to an interactive table.\"\n",
              "              style=\"display:none;\">\n",
              "        \n",
              "  <svg xmlns=\"http://www.w3.org/2000/svg\" height=\"24px\"viewBox=\"0 0 24 24\"\n",
              "       width=\"24px\">\n",
              "    <path d=\"M0 0h24v24H0V0z\" fill=\"none\"/>\n",
              "    <path d=\"M18.56 5.44l.94 2.06.94-2.06 2.06-.94-2.06-.94-.94-2.06-.94 2.06-2.06.94zm-11 1L8.5 8.5l.94-2.06 2.06-.94-2.06-.94L8.5 2.5l-.94 2.06-2.06.94zm10 10l.94 2.06.94-2.06 2.06-.94-2.06-.94-.94-2.06-.94 2.06-2.06.94z\"/><path d=\"M17.41 7.96l-1.37-1.37c-.4-.4-.92-.59-1.43-.59-.52 0-1.04.2-1.43.59L10.3 9.45l-7.72 7.72c-.78.78-.78 2.05 0 2.83L4 21.41c.39.39.9.59 1.41.59.51 0 1.02-.2 1.41-.59l7.78-7.78 2.81-2.81c.8-.78.8-2.07 0-2.86zM5.41 20L4 18.59l7.72-7.72 1.47 1.35L5.41 20z\"/>\n",
              "  </svg>\n",
              "      </button>\n",
              "      \n",
              "  <style>\n",
              "    .colab-df-container {\n",
              "      display:flex;\n",
              "      flex-wrap:wrap;\n",
              "      gap: 12px;\n",
              "    }\n",
              "\n",
              "    .colab-df-convert {\n",
              "      background-color: #E8F0FE;\n",
              "      border: none;\n",
              "      border-radius: 50%;\n",
              "      cursor: pointer;\n",
              "      display: none;\n",
              "      fill: #1967D2;\n",
              "      height: 32px;\n",
              "      padding: 0 0 0 0;\n",
              "      width: 32px;\n",
              "    }\n",
              "\n",
              "    .colab-df-convert:hover {\n",
              "      background-color: #E2EBFA;\n",
              "      box-shadow: 0px 1px 2px rgba(60, 64, 67, 0.3), 0px 1px 3px 1px rgba(60, 64, 67, 0.15);\n",
              "      fill: #174EA6;\n",
              "    }\n",
              "\n",
              "    [theme=dark] .colab-df-convert {\n",
              "      background-color: #3B4455;\n",
              "      fill: #D2E3FC;\n",
              "    }\n",
              "\n",
              "    [theme=dark] .colab-df-convert:hover {\n",
              "      background-color: #434B5C;\n",
              "      box-shadow: 0px 1px 3px 1px rgba(0, 0, 0, 0.15);\n",
              "      filter: drop-shadow(0px 1px 2px rgba(0, 0, 0, 0.3));\n",
              "      fill: #FFFFFF;\n",
              "    }\n",
              "  </style>\n",
              "\n",
              "      <script>\n",
              "        const buttonEl =\n",
              "          document.querySelector('#df-ce71b760-117c-41d6-b0af-5b2a59b8629b button.colab-df-convert');\n",
              "        buttonEl.style.display =\n",
              "          google.colab.kernel.accessAllowed ? 'block' : 'none';\n",
              "\n",
              "        async function convertToInteractive(key) {\n",
              "          const element = document.querySelector('#df-ce71b760-117c-41d6-b0af-5b2a59b8629b');\n",
              "          const dataTable =\n",
              "            await google.colab.kernel.invokeFunction('convertToInteractive',\n",
              "                                                     [key], {});\n",
              "          if (!dataTable) return;\n",
              "\n",
              "          const docLinkHtml = 'Like what you see? Visit the ' +\n",
              "            '<a target=\"_blank\" href=https://colab.research.google.com/notebooks/data_table.ipynb>data table notebook</a>'\n",
              "            + ' to learn more about interactive tables.';\n",
              "          element.innerHTML = '';\n",
              "          dataTable['output_type'] = 'display_data';\n",
              "          await google.colab.output.renderOutput(dataTable, element);\n",
              "          const docLink = document.createElement('div');\n",
              "          docLink.innerHTML = docLinkHtml;\n",
              "          element.appendChild(docLink);\n",
              "        }\n",
              "      </script>\n",
              "    </div>\n",
              "  </div>\n",
              "  "
            ]
          },
          "metadata": {},
          "execution_count": 34
        }
      ]
    },
    {
      "cell_type": "code",
      "source": [
        "df.head()\n"
      ],
      "metadata": {
        "colab": {
          "base_uri": "https://localhost:8080/",
          "height": 206
        },
        "id": "cB7i3ZNe3ZNk",
        "outputId": "f81478ff-ae58-44d5-a487-1f5796ad6b85"
      },
      "execution_count": 35,
      "outputs": [
        {
          "output_type": "execute_result",
          "data": {
            "text/plain": [
              "   Customer Number     Customer Name         2016          2017  \\\n",
              "0          10002.0  Quest Industries  $125,000.00    $162500.00   \n",
              "1         552278.0    Smith Plumbing  $920,000.00  $101,2000.00   \n",
              "2          23477.0   ACME Industrial   $50,000.00     $62500.00   \n",
              "3          24900.0        Brekke LTD  $350,000.00    $490000.00   \n",
              "4         651029.0         Harbor Co   $15,000.00     $12750.00   \n",
              "\n",
              "  Percent Growth Jan Units  Month  Day  Year Active  \n",
              "0         30.00%       500      1   10  2015      Y  \n",
              "1         10.00%       700      6   15  2014      Y  \n",
              "2         25.00%       125      3   29  2016      Y  \n",
              "3          4.00%        75     10   27  2015      Y  \n",
              "4        -15.00%    Closed      2    2  2014      N  "
            ],
            "text/html": [
              "\n",
              "  <div id=\"df-8d081e65-e72f-4b10-ba86-0f8b6bb7a5fc\">\n",
              "    <div class=\"colab-df-container\">\n",
              "      <div>\n",
              "<style scoped>\n",
              "    .dataframe tbody tr th:only-of-type {\n",
              "        vertical-align: middle;\n",
              "    }\n",
              "\n",
              "    .dataframe tbody tr th {\n",
              "        vertical-align: top;\n",
              "    }\n",
              "\n",
              "    .dataframe thead th {\n",
              "        text-align: right;\n",
              "    }\n",
              "</style>\n",
              "<table border=\"1\" class=\"dataframe\">\n",
              "  <thead>\n",
              "    <tr style=\"text-align: right;\">\n",
              "      <th></th>\n",
              "      <th>Customer Number</th>\n",
              "      <th>Customer Name</th>\n",
              "      <th>2016</th>\n",
              "      <th>2017</th>\n",
              "      <th>Percent Growth</th>\n",
              "      <th>Jan Units</th>\n",
              "      <th>Month</th>\n",
              "      <th>Day</th>\n",
              "      <th>Year</th>\n",
              "      <th>Active</th>\n",
              "    </tr>\n",
              "  </thead>\n",
              "  <tbody>\n",
              "    <tr>\n",
              "      <th>0</th>\n",
              "      <td>10002.0</td>\n",
              "      <td>Quest Industries</td>\n",
              "      <td>$125,000.00</td>\n",
              "      <td>$162500.00</td>\n",
              "      <td>30.00%</td>\n",
              "      <td>500</td>\n",
              "      <td>1</td>\n",
              "      <td>10</td>\n",
              "      <td>2015</td>\n",
              "      <td>Y</td>\n",
              "    </tr>\n",
              "    <tr>\n",
              "      <th>1</th>\n",
              "      <td>552278.0</td>\n",
              "      <td>Smith Plumbing</td>\n",
              "      <td>$920,000.00</td>\n",
              "      <td>$101,2000.00</td>\n",
              "      <td>10.00%</td>\n",
              "      <td>700</td>\n",
              "      <td>6</td>\n",
              "      <td>15</td>\n",
              "      <td>2014</td>\n",
              "      <td>Y</td>\n",
              "    </tr>\n",
              "    <tr>\n",
              "      <th>2</th>\n",
              "      <td>23477.0</td>\n",
              "      <td>ACME Industrial</td>\n",
              "      <td>$50,000.00</td>\n",
              "      <td>$62500.00</td>\n",
              "      <td>25.00%</td>\n",
              "      <td>125</td>\n",
              "      <td>3</td>\n",
              "      <td>29</td>\n",
              "      <td>2016</td>\n",
              "      <td>Y</td>\n",
              "    </tr>\n",
              "    <tr>\n",
              "      <th>3</th>\n",
              "      <td>24900.0</td>\n",
              "      <td>Brekke LTD</td>\n",
              "      <td>$350,000.00</td>\n",
              "      <td>$490000.00</td>\n",
              "      <td>4.00%</td>\n",
              "      <td>75</td>\n",
              "      <td>10</td>\n",
              "      <td>27</td>\n",
              "      <td>2015</td>\n",
              "      <td>Y</td>\n",
              "    </tr>\n",
              "    <tr>\n",
              "      <th>4</th>\n",
              "      <td>651029.0</td>\n",
              "      <td>Harbor Co</td>\n",
              "      <td>$15,000.00</td>\n",
              "      <td>$12750.00</td>\n",
              "      <td>-15.00%</td>\n",
              "      <td>Closed</td>\n",
              "      <td>2</td>\n",
              "      <td>2</td>\n",
              "      <td>2014</td>\n",
              "      <td>N</td>\n",
              "    </tr>\n",
              "  </tbody>\n",
              "</table>\n",
              "</div>\n",
              "      <button class=\"colab-df-convert\" onclick=\"convertToInteractive('df-8d081e65-e72f-4b10-ba86-0f8b6bb7a5fc')\"\n",
              "              title=\"Convert this dataframe to an interactive table.\"\n",
              "              style=\"display:none;\">\n",
              "        \n",
              "  <svg xmlns=\"http://www.w3.org/2000/svg\" height=\"24px\"viewBox=\"0 0 24 24\"\n",
              "       width=\"24px\">\n",
              "    <path d=\"M0 0h24v24H0V0z\" fill=\"none\"/>\n",
              "    <path d=\"M18.56 5.44l.94 2.06.94-2.06 2.06-.94-2.06-.94-.94-2.06-.94 2.06-2.06.94zm-11 1L8.5 8.5l.94-2.06 2.06-.94-2.06-.94L8.5 2.5l-.94 2.06-2.06.94zm10 10l.94 2.06.94-2.06 2.06-.94-2.06-.94-.94-2.06-.94 2.06-2.06.94z\"/><path d=\"M17.41 7.96l-1.37-1.37c-.4-.4-.92-.59-1.43-.59-.52 0-1.04.2-1.43.59L10.3 9.45l-7.72 7.72c-.78.78-.78 2.05 0 2.83L4 21.41c.39.39.9.59 1.41.59.51 0 1.02-.2 1.41-.59l7.78-7.78 2.81-2.81c.8-.78.8-2.07 0-2.86zM5.41 20L4 18.59l7.72-7.72 1.47 1.35L5.41 20z\"/>\n",
              "  </svg>\n",
              "      </button>\n",
              "      \n",
              "  <style>\n",
              "    .colab-df-container {\n",
              "      display:flex;\n",
              "      flex-wrap:wrap;\n",
              "      gap: 12px;\n",
              "    }\n",
              "\n",
              "    .colab-df-convert {\n",
              "      background-color: #E8F0FE;\n",
              "      border: none;\n",
              "      border-radius: 50%;\n",
              "      cursor: pointer;\n",
              "      display: none;\n",
              "      fill: #1967D2;\n",
              "      height: 32px;\n",
              "      padding: 0 0 0 0;\n",
              "      width: 32px;\n",
              "    }\n",
              "\n",
              "    .colab-df-convert:hover {\n",
              "      background-color: #E2EBFA;\n",
              "      box-shadow: 0px 1px 2px rgba(60, 64, 67, 0.3), 0px 1px 3px 1px rgba(60, 64, 67, 0.15);\n",
              "      fill: #174EA6;\n",
              "    }\n",
              "\n",
              "    [theme=dark] .colab-df-convert {\n",
              "      background-color: #3B4455;\n",
              "      fill: #D2E3FC;\n",
              "    }\n",
              "\n",
              "    [theme=dark] .colab-df-convert:hover {\n",
              "      background-color: #434B5C;\n",
              "      box-shadow: 0px 1px 3px 1px rgba(0, 0, 0, 0.15);\n",
              "      filter: drop-shadow(0px 1px 2px rgba(0, 0, 0, 0.3));\n",
              "      fill: #FFFFFF;\n",
              "    }\n",
              "  </style>\n",
              "\n",
              "      <script>\n",
              "        const buttonEl =\n",
              "          document.querySelector('#df-8d081e65-e72f-4b10-ba86-0f8b6bb7a5fc button.colab-df-convert');\n",
              "        buttonEl.style.display =\n",
              "          google.colab.kernel.accessAllowed ? 'block' : 'none';\n",
              "\n",
              "        async function convertToInteractive(key) {\n",
              "          const element = document.querySelector('#df-8d081e65-e72f-4b10-ba86-0f8b6bb7a5fc');\n",
              "          const dataTable =\n",
              "            await google.colab.kernel.invokeFunction('convertToInteractive',\n",
              "                                                     [key], {});\n",
              "          if (!dataTable) return;\n",
              "\n",
              "          const docLinkHtml = 'Like what you see? Visit the ' +\n",
              "            '<a target=\"_blank\" href=https://colab.research.google.com/notebooks/data_table.ipynb>data table notebook</a>'\n",
              "            + ' to learn more about interactive tables.';\n",
              "          element.innerHTML = '';\n",
              "          dataTable['output_type'] = 'display_data';\n",
              "          await google.colab.output.renderOutput(dataTable, element);\n",
              "          const docLink = document.createElement('div');\n",
              "          docLink.innerHTML = docLinkHtml;\n",
              "          element.appendChild(docLink);\n",
              "        }\n",
              "      </script>\n",
              "    </div>\n",
              "  </div>\n",
              "  "
            ]
          },
          "metadata": {},
          "execution_count": 35
        }
      ]
    },
    {
      "cell_type": "code",
      "source": [
        "df.info()"
      ],
      "metadata": {
        "colab": {
          "base_uri": "https://localhost:8080/"
        },
        "id": "JT6rDPqo3Znd",
        "outputId": "e8e2bd92-9570-472c-d4b5-6021fd73e335"
      },
      "execution_count": 36,
      "outputs": [
        {
          "output_type": "stream",
          "name": "stdout",
          "text": [
            "<class 'pandas.core.frame.DataFrame'>\n",
            "RangeIndex: 5 entries, 0 to 4\n",
            "Data columns (total 10 columns):\n",
            " #   Column           Non-Null Count  Dtype  \n",
            "---  ------           --------------  -----  \n",
            " 0   Customer Number  5 non-null      float64\n",
            " 1   Customer Name    5 non-null      object \n",
            " 2   2016             5 non-null      object \n",
            " 3   2017             5 non-null      object \n",
            " 4   Percent Growth   5 non-null      object \n",
            " 5   Jan Units        5 non-null      object \n",
            " 6   Month            5 non-null      int64  \n",
            " 7   Day              5 non-null      int64  \n",
            " 8   Year             5 non-null      int64  \n",
            " 9   Active           5 non-null      object \n",
            "dtypes: float64(1), int64(3), object(6)\n",
            "memory usage: 528.0+ bytes\n"
          ]
        }
      ]
    },
    {
      "cell_type": "code",
      "source": [
        "df['Customer Number'].astype('int')"
      ],
      "metadata": {
        "colab": {
          "base_uri": "https://localhost:8080/"
        },
        "id": "-C1tGlzi4Q-1",
        "outputId": "66d40e37-202b-4b0b-edae-35f4b18ed663"
      },
      "execution_count": 38,
      "outputs": [
        {
          "output_type": "execute_result",
          "data": {
            "text/plain": [
              "0     10002\n",
              "1    552278\n",
              "2     23477\n",
              "3     24900\n",
              "4    651029\n",
              "Name: Customer Number, dtype: int64"
            ]
          },
          "metadata": {},
          "execution_count": 38
        }
      ]
    },
    {
      "cell_type": "code",
      "source": [
        "df['Customer Number'].astype('int')"
      ],
      "metadata": {
        "colab": {
          "base_uri": "https://localhost:8080/"
        },
        "id": "QQvu9crs4RDM",
        "outputId": "48dec1d8-934f-49ed-d8b5-b6932e8e10ba"
      },
      "execution_count": 40,
      "outputs": [
        {
          "output_type": "execute_result",
          "data": {
            "text/plain": [
              "0     10002\n",
              "1    552278\n",
              "2     23477\n",
              "3     24900\n",
              "4    651029\n",
              "Name: Customer Number, dtype: int64"
            ]
          },
          "metadata": {},
          "execution_count": 40
        }
      ]
    },
    {
      "cell_type": "code",
      "source": [
        "def conver_currency(val):\n",
        "  newval=val.replace(',','').replace('$','')\n",
        "  return float(newval)\n",
        "df['2016']=df['2016'].apply(conver_currency)"
      ],
      "metadata": {
        "id": "WTRNCG8B5jPS"
      },
      "execution_count": 45,
      "outputs": []
    },
    {
      "cell_type": "code",
      "source": [
        "df['2016']=df['2016'].apply(conver_currency)"
      ],
      "metadata": {
        "id": "_CACRvDK5jsr"
      },
      "execution_count": null,
      "outputs": []
    },
    {
      "cell_type": "code",
      "source": [
        "df.info()"
      ],
      "metadata": {
        "colab": {
          "base_uri": "https://localhost:8080/"
        },
        "id": "75Nlu0Ex4RGC",
        "outputId": "c49ac8c1-9583-42d8-c9cb-11a18cc8bb8d"
      },
      "execution_count": 46,
      "outputs": [
        {
          "output_type": "stream",
          "name": "stdout",
          "text": [
            "<class 'pandas.core.frame.DataFrame'>\n",
            "RangeIndex: 5 entries, 0 to 4\n",
            "Data columns (total 10 columns):\n",
            " #   Column           Non-Null Count  Dtype  \n",
            "---  ------           --------------  -----  \n",
            " 0   Customer Number  5 non-null      float64\n",
            " 1   Customer Name    5 non-null      object \n",
            " 2   2016             5 non-null      float64\n",
            " 3   2017             5 non-null      object \n",
            " 4   Percent Growth   5 non-null      object \n",
            " 5   Jan Units        5 non-null      object \n",
            " 6   Month            5 non-null      int64  \n",
            " 7   Day              5 non-null      int64  \n",
            " 8   Year             5 non-null      int64  \n",
            " 9   Active           5 non-null      object \n",
            "dtypes: float64(2), int64(3), object(5)\n",
            "memory usage: 528.0+ bytes\n"
          ]
        }
      ]
    },
    {
      "cell_type": "code",
      "source": [],
      "metadata": {
        "id": "O7lDVnQj7k7f"
      },
      "execution_count": null,
      "outputs": []
    },
    {
      "cell_type": "code",
      "source": [],
      "metadata": {
        "id": "9l_aAsst7k-J"
      },
      "execution_count": null,
      "outputs": []
    },
    {
      "cell_type": "code",
      "source": [],
      "metadata": {
        "id": "Z9189url7lA3"
      },
      "execution_count": null,
      "outputs": []
    },
    {
      "cell_type": "code",
      "source": [],
      "metadata": {
        "id": "kmJZ5I2c7lHq"
      },
      "execution_count": null,
      "outputs": []
    },
    {
      "cell_type": "code",
      "source": [
        "#Mean\n",
        "import pandas as pd\n",
        "mean1 = df['Month'].mean()\n",
        "print(mean1)"
      ],
      "metadata": {
        "colab": {
          "base_uri": "https://localhost:8080/"
        },
        "id": "_Ff3pfYChuF9",
        "outputId": "a9766a15-b213-4cf4-8c64-4bff6c879dce"
      },
      "execution_count": 22,
      "outputs": [
        {
          "output_type": "stream",
          "name": "stdout",
          "text": [
            "4.4\n"
          ]
        }
      ]
    },
    {
      "cell_type": "code",
      "source": [
        "#Median\n",
        "import pandas as pd\n",
        "median1 = df['Month'].median()\n",
        "print(median1)"
      ],
      "metadata": {
        "colab": {
          "base_uri": "https://localhost:8080/"
        },
        "id": "xHVlcilViDJ6",
        "outputId": "45cc4709-55a5-4597-cc31-d58ce30c749c"
      },
      "execution_count": 23,
      "outputs": [
        {
          "output_type": "stream",
          "name": "stdout",
          "text": [
            "3.0\n"
          ]
        }
      ]
    },
    {
      "cell_type": "code",
      "source": [
        "#Standard deviation\n",
        "import pandas as pd\n",
        "std1 = df['Month'].std()\n",
        "print(std1)"
      ],
      "metadata": {
        "colab": {
          "base_uri": "https://localhost:8080/"
        },
        "id": "pVWI8DEbiJKC",
        "outputId": "f292ea22-625b-49eb-d919-bcf2a398ad79"
      },
      "execution_count": 24,
      "outputs": [
        {
          "output_type": "stream",
          "name": "stdout",
          "text": [
            "3.646916505762094\n"
          ]
        }
      ]
    },
    {
      "cell_type": "code",
      "source": [
        "#Varience\n",
        "import pandas as pd\n",
        "var1 = df['Month'].var()\n",
        "print(var1)"
      ],
      "metadata": {
        "colab": {
          "base_uri": "https://localhost:8080/"
        },
        "id": "AY66oYhmiMqN",
        "outputId": "675edee5-eb27-49f4-ba95-088f25c730a6"
      },
      "execution_count": 25,
      "outputs": [
        {
          "output_type": "stream",
          "name": "stdout",
          "text": [
            "13.3\n"
          ]
        }
      ]
    },
    {
      "cell_type": "code",
      "source": [
        "#Mode\n",
        "import pandas as pd\n",
        "mode1 = df['Month'].mode()\n",
        "print(mode1)"
      ],
      "metadata": {
        "colab": {
          "base_uri": "https://localhost:8080/"
        },
        "id": "6yOdtlfaiPnu",
        "outputId": "423a9a27-130e-4f06-ab80-868ad050d31f"
      },
      "execution_count": 26,
      "outputs": [
        {
          "output_type": "stream",
          "name": "stdout",
          "text": [
            "0     1\n",
            "1     2\n",
            "2     3\n",
            "3     6\n",
            "4    10\n",
            "Name: Month, dtype: int64\n"
          ]
        }
      ]
    }
  ]
}