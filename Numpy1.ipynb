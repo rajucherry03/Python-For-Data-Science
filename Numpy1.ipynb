{
  "nbformat": 4,
  "nbformat_minor": 0,
  "metadata": {
    "colab": {
      "provenance": [],
      "authorship_tag": "ABX9TyO3gbDoyVk5y39Bc7m9qohJ",
      "include_colab_link": true
    },
    "kernelspec": {
      "name": "python3",
      "display_name": "Python 3"
    },
    "language_info": {
      "name": "python"
    }
  },
  "cells": [
    {
      "cell_type": "markdown",
      "metadata": {
        "id": "view-in-github",
        "colab_type": "text"
      },
      "source": [
        "<a href=\"https://colab.research.google.com/github/rajucherry03/Python-For-Data-Science/blob/main/Numpy1.ipynb\" target=\"_parent\"><img src=\"https://colab.research.google.com/assets/colab-badge.svg\" alt=\"Open In Colab\"/></a>"
      ]
    },
    {
      "cell_type": "code",
      "execution_count": null,
      "metadata": {
        "colab": {
          "base_uri": "https://localhost:8080/"
        },
        "id": "r-3DeU2BUZRF",
        "outputId": "757a69b1-6fcd-4b19-dce6-31ed6978f4b9"
      },
      "outputs": [
        {
          "output_type": "execute_result",
          "data": {
            "text/plain": [
              "array([[0., 0., 0.],\n",
              "       [0., 0., 0.]])"
            ]
          },
          "metadata": {},
          "execution_count": 1
        }
      ],
      "source": [
        "#Zeros create a 2d m ele of zeros and same as for other numbers\n",
        "import numpy as np\n",
        "np.zeros((2,3))\n"
      ]
    },
    {
      "cell_type": "code",
      "source": [
        "import numpy as np\n",
        "np.ones((2,3))"
      ],
      "metadata": {
        "colab": {
          "base_uri": "https://localhost:8080/"
        },
        "id": "qIkxKmlPUn8K",
        "outputId": "9d626dbd-4d55-48d8-dcad-3d2ac7839cca"
      },
      "execution_count": null,
      "outputs": [
        {
          "output_type": "execute_result",
          "data": {
            "text/plain": [
              "array([[1., 1., 1.],\n",
              "       [1., 1., 1.]])"
            ]
          },
          "metadata": {},
          "execution_count": 2
        }
      ]
    },
    {
      "cell_type": "code",
      "source": [
        "#arange it prints the num from 0 to n-1 place sequentially\n",
        "import numpy as np\n",
        "np.arange(10)"
      ],
      "metadata": {
        "colab": {
          "base_uri": "https://localhost:8080/"
        },
        "id": "de1z8VlNUv6I",
        "outputId": "d2b673b5-1192-4c67-9be2-b9a729fc5e50"
      },
      "execution_count": null,
      "outputs": [
        {
          "output_type": "execute_result",
          "data": {
            "text/plain": [
              "array([0, 1, 2, 3, 4, 5, 6, 7, 8, 9])"
            ]
          },
          "metadata": {},
          "execution_count": 3
        }
      ]
    },
    {
      "cell_type": "code",
      "source": [
        "#linspace \n",
        "import numpy as np\n",
        "np.linspace(1,26,3)"
      ],
      "metadata": {
        "colab": {
          "base_uri": "https://localhost:8080/"
        },
        "id": "4wyyVLXjU2bH",
        "outputId": "30b7d1ba-733d-4f05-9371-176db85084ae"
      },
      "execution_count": null,
      "outputs": [
        {
          "output_type": "execute_result",
          "data": {
            "text/plain": [
              "array([ 1. , 13.5, 26. ])"
            ]
          },
          "metadata": {},
          "execution_count": 3
        }
      ]
    },
    {
      "cell_type": "code",
      "source": [
        "#Indices \n",
        "import numpy as np\n",
        "np.indices((3,3))"
      ],
      "metadata": {
        "colab": {
          "base_uri": "https://localhost:8080/"
        },
        "id": "cGp3q1gfV_va",
        "outputId": "f1857cd4-49db-4303-905c-f4d1c3422e79"
      },
      "execution_count": null,
      "outputs": [
        {
          "output_type": "execute_result",
          "data": {
            "text/plain": [
              "array([[[0, 0, 0],\n",
              "        [1, 1, 1],\n",
              "        [2, 2, 2]],\n",
              "\n",
              "       [[0, 1, 2],\n",
              "        [0, 1, 2],\n",
              "        [0, 1, 2]]])"
            ]
          },
          "metadata": {},
          "execution_count": 5
        }
      ]
    },
    {
      "cell_type": "code",
      "source": [
        "#Indices \n",
        "import numpy as np\n",
        "np.indices((4,4))"
      ],
      "metadata": {
        "colab": {
          "base_uri": "https://localhost:8080/"
        },
        "id": "JVhjSy36bP2q",
        "outputId": "89933fca-e3fc-4ff4-ae92-9e364b73cbac"
      },
      "execution_count": null,
      "outputs": [
        {
          "output_type": "execute_result",
          "data": {
            "text/plain": [
              "array([[[0, 0, 0, 0],\n",
              "        [1, 1, 1, 1],\n",
              "        [2, 2, 2, 2],\n",
              "        [3, 3, 3, 3]],\n",
              "\n",
              "       [[0, 1, 2, 3],\n",
              "        [0, 1, 2, 3],\n",
              "        [0, 1, 2, 3],\n",
              "        [0, 1, 2, 3]]])"
            ]
          },
          "metadata": {},
          "execution_count": 4
        }
      ]
    },
    {
      "cell_type": "code",
      "source": [
        "import numpy as np\n",
        "np.random.rand(3,2)"
      ],
      "metadata": {
        "colab": {
          "base_uri": "https://localhost:8080/"
        },
        "id": "YN35JIpZWJII",
        "outputId": "dc811756-2f31-4698-bdf1-85b8ae5ed84b"
      },
      "execution_count": null,
      "outputs": [
        {
          "output_type": "execute_result",
          "data": {
            "text/plain": [
              "array([[0.05359127, 0.75614524],\n",
              "       [0.95530787, 0.14362585],\n",
              "       [0.41595816, 0.30433616]])"
            ]
          },
          "metadata": {},
          "execution_count": 6
        }
      ]
    },
    {
      "cell_type": "code",
      "source": [
        "import numpy as np\n",
        "np.random.rand(3,2)"
      ],
      "metadata": {
        "colab": {
          "base_uri": "https://localhost:8080/"
        },
        "id": "TK-SZk94Yno6",
        "outputId": "37de59b5-4dee-45c4-b94a-21fb75545489"
      },
      "execution_count": null,
      "outputs": [
        {
          "output_type": "execute_result",
          "data": {
            "text/plain": [
              "array([[0.92628767, 0.74579073],\n",
              "       [0.93000819, 0.99628155],\n",
              "       [0.52706091, 0.95934612]])"
            ]
          },
          "metadata": {},
          "execution_count": 7
        }
      ]
    },
    {
      "cell_type": "code",
      "source": [
        "import numpy as np\n",
        "x=np.array([1,2,3])\n",
        "print(x)"
      ],
      "metadata": {
        "colab": {
          "base_uri": "https://localhost:8080/"
        },
        "id": "AT16Hh1gZEMd",
        "outputId": "9c6a1b05-51d7-41c5-dbef-e7e3b025772c"
      },
      "execution_count": null,
      "outputs": [
        {
          "output_type": "stream",
          "name": "stdout",
          "text": [
            "[1 2 3]\n"
          ]
        }
      ]
    },
    {
      "cell_type": "code",
      "source": [
        "import numpy as np\n",
        "np.random.randint(10,size=10)"
      ],
      "metadata": {
        "colab": {
          "base_uri": "https://localhost:8080/"
        },
        "id": "4NGj1gh8bVUN",
        "outputId": "6c3e0864-c274-40f3-c182-cb6adc8b885d"
      },
      "execution_count": null,
      "outputs": [
        {
          "output_type": "execute_result",
          "data": {
            "text/plain": [
              "array([3, 2, 9, 1, 1, 4, 2, 9, 2, 4])"
            ]
          },
          "metadata": {},
          "execution_count": 28
        }
      ]
    },
    {
      "cell_type": "code",
      "source": [
        "import numpy as np\n",
        "a=np.array([1,2,3])\n",
        "b=np.array([1,2,3])\n",
        "c=np.add(a,b)\n",
        "print(c)"
      ],
      "metadata": {
        "id": "LBtPeqdYene4",
        "colab": {
          "base_uri": "https://localhost:8080/"
        },
        "outputId": "05ab5b94-b09e-4a60-900e-735e8da77fdd"
      },
      "execution_count": null,
      "outputs": [
        {
          "output_type": "stream",
          "name": "stdout",
          "text": [
            "[2 4 6]\n"
          ]
        }
      ]
    },
    {
      "cell_type": "code",
      "source": [
        "import numpy as np\n",
        "a=np.array([1,2,3,5,8,9])\n",
        "print(\"Actual num: \")\n",
        "print(a)\n",
        "print(\"After rev\")\n",
        "c=np.flip(a)\n",
        "print(c)"
      ],
      "metadata": {
        "colab": {
          "base_uri": "https://localhost:8080/"
        },
        "id": "FsyVmWFTkJTr",
        "outputId": "a5392578-305b-4286-aa8c-43941b128e61"
      },
      "execution_count": null,
      "outputs": [
        {
          "output_type": "stream",
          "name": "stdout",
          "text": [
            "Actual num: \n",
            "[1 2 3 5 8 9]\n",
            "After rev\n",
            "[9 8 5 3 2 1]\n"
          ]
        }
      ]
    },
    {
      "cell_type": "code",
      "source": [
        "import numpy as np\n",
        "matrix = np.array([[1, 2, 3], [4, 5, 6], [7, 8, 9]])\n",
        "print(\"3*3 matrix\")\n",
        "print(matrix)\n",
        "column = np.column_stack((matrix, np.zeros(3)))\n",
        "row = np.vstack((column, np.ones(4)))\n",
        "print(\"After adding column and row: \")\n",
        "print(row)\n"
      ],
      "metadata": {
        "colab": {
          "base_uri": "https://localhost:8080/"
        },
        "id": "50ULSfsnniVG",
        "outputId": "85bdad67-9bfa-4d22-b3bf-c688d91a47b9"
      },
      "execution_count": null,
      "outputs": [
        {
          "output_type": "stream",
          "name": "stdout",
          "text": [
            "3*3 matrix\n",
            "[[1 2 3]\n",
            " [4 5 6]\n",
            " [7 8 9]]\n",
            "After adding column and row: \n",
            "[[1. 2. 3. 0.]\n",
            " [4. 5. 6. 0.]\n",
            " [7. 8. 9. 0.]\n",
            " [1. 1. 1. 1.]]\n"
          ]
        }
      ]
    },
    {
      "cell_type": "code",
      "source": [
        "import numpy as np\n",
        "arr1 = np.array([1, 2, 3, 4, 5])\n",
        "arr2 = np.array([2, 3, 1, 4, 5])\n",
        "matchingindices = np.where(arr1 == arr2)\n",
        "print(matchingindices)\n"
      ],
      "metadata": {
        "colab": {
          "base_uri": "https://localhost:8080/"
        },
        "id": "qcZxk5tAqeYF",
        "outputId": "03ae67b0-36ff-4bee-939e-c136aba51cef"
      },
      "execution_count": null,
      "outputs": [
        {
          "output_type": "stream",
          "name": "stdout",
          "text": [
            "(array([3, 4]),)\n"
          ]
        }
      ]
    },
    {
      "cell_type": "code",
      "source": [
        "import numpy as np\n",
        "\n",
        "rand_arr = np.random.uniform(low=0, high=10, size=10)\n",
        "\n",
        "rounded_arr = np.round(rand_arr)\n",
        "print(\"Original Array: \", rand_arr)\n",
        "print(\"Rounded Array: \", rounded_arr)\n"
      ],
      "metadata": {
        "colab": {
          "base_uri": "https://localhost:8080/"
        },
        "id": "57oCo58bsYx9",
        "outputId": "5a749bda-0c16-474d-bf0e-8b0be4c91a43"
      },
      "execution_count": null,
      "outputs": [
        {
          "output_type": "stream",
          "name": "stdout",
          "text": [
            "Original Array:  [8.28552139 1.79272382 2.25892564 2.7006616  5.99760257 2.31867878\n",
            " 6.14991812 0.46265516 4.03418371 5.40687669]\n",
            "Rounded Array:  [8. 2. 2. 3. 6. 2. 6. 0. 4. 5.]\n"
          ]
        }
      ]
    }
  ]
}