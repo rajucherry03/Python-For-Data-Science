{
  "nbformat": 4,
  "nbformat_minor": 0,
  "metadata": {
    "colab": {
      "provenance": [],
      "authorship_tag": "ABX9TyOGYgl2syqb8856nD5uwi18",
      "include_colab_link": true
    },
    "kernelspec": {
      "name": "python3",
      "display_name": "Python 3"
    },
    "language_info": {
      "name": "python"
    }
  },
  "cells": [
    {
      "cell_type": "markdown",
      "metadata": {
        "id": "view-in-github",
        "colab_type": "text"
      },
      "source": [
        "<a href=\"https://colab.research.google.com/github/rajucherry03/Python-For-Data-Science/blob/main/Exp8pandasoperation.ipynb\" target=\"_parent\"><img src=\"https://colab.research.google.com/assets/colab-badge.svg\" alt=\"Open In Colab\"/></a>"
      ]
    },
    {
      "cell_type": "code",
      "execution_count": 1,
      "metadata": {
        "colab": {
          "base_uri": "https://localhost:8080/"
        },
        "id": "vbeO8hG9zfVz",
        "outputId": "9bf33c8a-f7a2-4a01-d9d5-162ee972287e"
      },
      "outputs": [
        {
          "output_type": "stream",
          "name": "stdout",
          "text": [
            "Mounted at /content/drive/\n"
          ]
        }
      ],
      "source": [
        "from google.colab import drive\n",
        "drive.mount('/content/drive/')"
      ]
    },
    {
      "cell_type": "code",
      "source": [
        "import pandas as pd\n",
        "df=pd.read_csv('/content/drive/MyDrive/1-Pds Lab/StudentsPerformance.csv')\n",
        "df.head()"
      ],
      "metadata": {
        "colab": {
          "base_uri": "https://localhost:8080/",
          "height": 206
        },
        "id": "HPiNNIXvzmDz",
        "outputId": "ee357544-d9e0-4f4d-df60-014eee628a0e"
      },
      "execution_count": 2,
      "outputs": [
        {
          "output_type": "execute_result",
          "data": {
            "text/plain": [
              "   gender race/ethnicity parental level of education         lunch  \\\n",
              "0  female        group B           bachelor's degree      standard   \n",
              "1  female        group C                some college      standard   \n",
              "2  female        group B             master's degree      standard   \n",
              "3    male        group A          associate's degree  free/reduced   \n",
              "4    male        group C                some college      standard   \n",
              "\n",
              "  test preparation course  math score  reading score  writing score  \n",
              "0                    none          72             72             74  \n",
              "1               completed          69             90             88  \n",
              "2                    none          90             95             93  \n",
              "3                    none          47             57             44  \n",
              "4                    none          76             78             75  "
            ],
            "text/html": [
              "\n",
              "  <div id=\"df-8d591a23-997e-41ae-bbd1-9b7ce7b244a5\">\n",
              "    <div class=\"colab-df-container\">\n",
              "      <div>\n",
              "<style scoped>\n",
              "    .dataframe tbody tr th:only-of-type {\n",
              "        vertical-align: middle;\n",
              "    }\n",
              "\n",
              "    .dataframe tbody tr th {\n",
              "        vertical-align: top;\n",
              "    }\n",
              "\n",
              "    .dataframe thead th {\n",
              "        text-align: right;\n",
              "    }\n",
              "</style>\n",
              "<table border=\"1\" class=\"dataframe\">\n",
              "  <thead>\n",
              "    <tr style=\"text-align: right;\">\n",
              "      <th></th>\n",
              "      <th>gender</th>\n",
              "      <th>race/ethnicity</th>\n",
              "      <th>parental level of education</th>\n",
              "      <th>lunch</th>\n",
              "      <th>test preparation course</th>\n",
              "      <th>math score</th>\n",
              "      <th>reading score</th>\n",
              "      <th>writing score</th>\n",
              "    </tr>\n",
              "  </thead>\n",
              "  <tbody>\n",
              "    <tr>\n",
              "      <th>0</th>\n",
              "      <td>female</td>\n",
              "      <td>group B</td>\n",
              "      <td>bachelor's degree</td>\n",
              "      <td>standard</td>\n",
              "      <td>none</td>\n",
              "      <td>72</td>\n",
              "      <td>72</td>\n",
              "      <td>74</td>\n",
              "    </tr>\n",
              "    <tr>\n",
              "      <th>1</th>\n",
              "      <td>female</td>\n",
              "      <td>group C</td>\n",
              "      <td>some college</td>\n",
              "      <td>standard</td>\n",
              "      <td>completed</td>\n",
              "      <td>69</td>\n",
              "      <td>90</td>\n",
              "      <td>88</td>\n",
              "    </tr>\n",
              "    <tr>\n",
              "      <th>2</th>\n",
              "      <td>female</td>\n",
              "      <td>group B</td>\n",
              "      <td>master's degree</td>\n",
              "      <td>standard</td>\n",
              "      <td>none</td>\n",
              "      <td>90</td>\n",
              "      <td>95</td>\n",
              "      <td>93</td>\n",
              "    </tr>\n",
              "    <tr>\n",
              "      <th>3</th>\n",
              "      <td>male</td>\n",
              "      <td>group A</td>\n",
              "      <td>associate's degree</td>\n",
              "      <td>free/reduced</td>\n",
              "      <td>none</td>\n",
              "      <td>47</td>\n",
              "      <td>57</td>\n",
              "      <td>44</td>\n",
              "    </tr>\n",
              "    <tr>\n",
              "      <th>4</th>\n",
              "      <td>male</td>\n",
              "      <td>group C</td>\n",
              "      <td>some college</td>\n",
              "      <td>standard</td>\n",
              "      <td>none</td>\n",
              "      <td>76</td>\n",
              "      <td>78</td>\n",
              "      <td>75</td>\n",
              "    </tr>\n",
              "  </tbody>\n",
              "</table>\n",
              "</div>\n",
              "      <button class=\"colab-df-convert\" onclick=\"convertToInteractive('df-8d591a23-997e-41ae-bbd1-9b7ce7b244a5')\"\n",
              "              title=\"Convert this dataframe to an interactive table.\"\n",
              "              style=\"display:none;\">\n",
              "        \n",
              "  <svg xmlns=\"http://www.w3.org/2000/svg\" height=\"24px\"viewBox=\"0 0 24 24\"\n",
              "       width=\"24px\">\n",
              "    <path d=\"M0 0h24v24H0V0z\" fill=\"none\"/>\n",
              "    <path d=\"M18.56 5.44l.94 2.06.94-2.06 2.06-.94-2.06-.94-.94-2.06-.94 2.06-2.06.94zm-11 1L8.5 8.5l.94-2.06 2.06-.94-2.06-.94L8.5 2.5l-.94 2.06-2.06.94zm10 10l.94 2.06.94-2.06 2.06-.94-2.06-.94-.94-2.06-.94 2.06-2.06.94z\"/><path d=\"M17.41 7.96l-1.37-1.37c-.4-.4-.92-.59-1.43-.59-.52 0-1.04.2-1.43.59L10.3 9.45l-7.72 7.72c-.78.78-.78 2.05 0 2.83L4 21.41c.39.39.9.59 1.41.59.51 0 1.02-.2 1.41-.59l7.78-7.78 2.81-2.81c.8-.78.8-2.07 0-2.86zM5.41 20L4 18.59l7.72-7.72 1.47 1.35L5.41 20z\"/>\n",
              "  </svg>\n",
              "      </button>\n",
              "      \n",
              "  <style>\n",
              "    .colab-df-container {\n",
              "      display:flex;\n",
              "      flex-wrap:wrap;\n",
              "      gap: 12px;\n",
              "    }\n",
              "\n",
              "    .colab-df-convert {\n",
              "      background-color: #E8F0FE;\n",
              "      border: none;\n",
              "      border-radius: 50%;\n",
              "      cursor: pointer;\n",
              "      display: none;\n",
              "      fill: #1967D2;\n",
              "      height: 32px;\n",
              "      padding: 0 0 0 0;\n",
              "      width: 32px;\n",
              "    }\n",
              "\n",
              "    .colab-df-convert:hover {\n",
              "      background-color: #E2EBFA;\n",
              "      box-shadow: 0px 1px 2px rgba(60, 64, 67, 0.3), 0px 1px 3px 1px rgba(60, 64, 67, 0.15);\n",
              "      fill: #174EA6;\n",
              "    }\n",
              "\n",
              "    [theme=dark] .colab-df-convert {\n",
              "      background-color: #3B4455;\n",
              "      fill: #D2E3FC;\n",
              "    }\n",
              "\n",
              "    [theme=dark] .colab-df-convert:hover {\n",
              "      background-color: #434B5C;\n",
              "      box-shadow: 0px 1px 3px 1px rgba(0, 0, 0, 0.15);\n",
              "      filter: drop-shadow(0px 1px 2px rgba(0, 0, 0, 0.3));\n",
              "      fill: #FFFFFF;\n",
              "    }\n",
              "  </style>\n",
              "\n",
              "      <script>\n",
              "        const buttonEl =\n",
              "          document.querySelector('#df-8d591a23-997e-41ae-bbd1-9b7ce7b244a5 button.colab-df-convert');\n",
              "        buttonEl.style.display =\n",
              "          google.colab.kernel.accessAllowed ? 'block' : 'none';\n",
              "\n",
              "        async function convertToInteractive(key) {\n",
              "          const element = document.querySelector('#df-8d591a23-997e-41ae-bbd1-9b7ce7b244a5');\n",
              "          const dataTable =\n",
              "            await google.colab.kernel.invokeFunction('convertToInteractive',\n",
              "                                                     [key], {});\n",
              "          if (!dataTable) return;\n",
              "\n",
              "          const docLinkHtml = 'Like what you see? Visit the ' +\n",
              "            '<a target=\"_blank\" href=https://colab.research.google.com/notebooks/data_table.ipynb>data table notebook</a>'\n",
              "            + ' to learn more about interactive tables.';\n",
              "          element.innerHTML = '';\n",
              "          dataTable['output_type'] = 'display_data';\n",
              "          await google.colab.output.renderOutput(dataTable, element);\n",
              "          const docLink = document.createElement('div');\n",
              "          docLink.innerHTML = docLinkHtml;\n",
              "          element.appendChild(docLink);\n",
              "        }\n",
              "      </script>\n",
              "    </div>\n",
              "  </div>\n",
              "  "
            ]
          },
          "metadata": {},
          "execution_count": 2
        }
      ]
    },
    {
      "cell_type": "code",
      "source": [
        "# (a) Visualize the first and last 10 records\n",
        "print(\"First 10 records:\")\n",
        "print(df.head(10))\n",
        "print(\"Last 10 records:\")\n",
        "print(df.tail(10))"
      ],
      "metadata": {
        "colab": {
          "base_uri": "https://localhost:8080/"
        },
        "id": "y_m4Vq4_zmIv",
        "outputId": "1d402909-3cc2-4dae-8cc1-ca0e01782872"
      },
      "execution_count": 3,
      "outputs": [
        {
          "output_type": "stream",
          "name": "stdout",
          "text": [
            "First 10 records:\n",
            "   gender race/ethnicity parental level of education         lunch  \\\n",
            "0  female        group B           bachelor's degree      standard   \n",
            "1  female        group C                some college      standard   \n",
            "2  female        group B             master's degree      standard   \n",
            "3    male        group A          associate's degree  free/reduced   \n",
            "4    male        group C                some college      standard   \n",
            "5  female        group B          associate's degree      standard   \n",
            "6  female        group B                some college      standard   \n",
            "7    male        group B                some college  free/reduced   \n",
            "8    male        group D                 high school  free/reduced   \n",
            "9  female        group B                 high school  free/reduced   \n",
            "\n",
            "  test preparation course  math score  reading score  writing score  \n",
            "0                    none          72             72             74  \n",
            "1               completed          69             90             88  \n",
            "2                    none          90             95             93  \n",
            "3                    none          47             57             44  \n",
            "4                    none          76             78             75  \n",
            "5                    none          71             83             78  \n",
            "6               completed          88             95             92  \n",
            "7                    none          40             43             39  \n",
            "8               completed          64             64             67  \n",
            "9                    none          38             60             50  \n",
            "Last 10 records:\n",
            "     gender race/ethnicity parental level of education         lunch  \\\n",
            "990    male        group E                 high school  free/reduced   \n",
            "991  female        group B            some high school      standard   \n",
            "992  female        group D          associate's degree  free/reduced   \n",
            "993  female        group D           bachelor's degree  free/reduced   \n",
            "994    male        group A                 high school      standard   \n",
            "995  female        group E             master's degree      standard   \n",
            "996    male        group C                 high school  free/reduced   \n",
            "997  female        group C                 high school  free/reduced   \n",
            "998  female        group D                some college      standard   \n",
            "999  female        group D                some college  free/reduced   \n",
            "\n",
            "    test preparation course  math score  reading score  writing score  \n",
            "990               completed          86             81             75  \n",
            "991               completed          65             82             78  \n",
            "992                    none          55             76             76  \n",
            "993                    none          62             72             74  \n",
            "994                    none          63             63             62  \n",
            "995               completed          88             99             95  \n",
            "996                    none          62             55             55  \n",
            "997               completed          59             71             65  \n",
            "998               completed          68             78             77  \n",
            "999                    none          77             86             86  \n"
          ]
        }
      ]
    },
    {
      "cell_type": "code",
      "source": [
        "# (b) Get the shape, index, and column details\n",
        "print(\"Shape:\", df.shape)\n",
        "print(\"Index:\", df.index)\n",
        "print(\"Columns:\", df.columns)"
      ],
      "metadata": {
        "colab": {
          "base_uri": "https://localhost:8080/"
        },
        "id": "UYqRv9x3zmMR",
        "outputId": "ff8f1678-8cee-4d4e-c30b-58331e57b7bc"
      },
      "execution_count": 4,
      "outputs": [
        {
          "output_type": "stream",
          "name": "stdout",
          "text": [
            "Shape: (1000, 8)\n",
            "Index: RangeIndex(start=0, stop=1000, step=1)\n",
            "Columns: Index(['gender', 'race/ethnicity', 'parental level of education', 'lunch',\n",
            "       'test preparation course', 'math score', 'reading score',\n",
            "       'writing score'],\n",
            "      dtype='object')\n"
          ]
        }
      ]
    },
    {
      "cell_type": "code",
      "source": [
        "# (c) Select/Delete records(rows)/columns based on conditions\n",
        "# Select rows based on a condition\n",
        "selected_rows = df[df['math score'] > 50]\n",
        "print(selected_rows)"
      ],
      "metadata": {
        "colab": {
          "base_uri": "https://localhost:8080/"
        },
        "id": "MqgikBxqzmRr",
        "outputId": "7aaf2001-0318-40f3-f4ab-4daf3724c1c1"
      },
      "execution_count": 10,
      "outputs": [
        {
          "output_type": "stream",
          "name": "stdout",
          "text": [
            "     gender race/ethnicity parental level of education         lunch  \\\n",
            "0    female        group B           bachelor's degree      standard   \n",
            "1    female        group C                some college      standard   \n",
            "2    female        group B             master's degree      standard   \n",
            "4      male        group C                some college      standard   \n",
            "5    female        group B          associate's degree      standard   \n",
            "..      ...            ...                         ...           ...   \n",
            "995  female        group E             master's degree      standard   \n",
            "996    male        group C                 high school  free/reduced   \n",
            "997  female        group C                 high school  free/reduced   \n",
            "998  female        group D                some college      standard   \n",
            "999  female        group D                some college  free/reduced   \n",
            "\n",
            "    test preparation course  math score  reading score  writing score  \n",
            "0                      none          72             72             74  \n",
            "1                 completed          69             90             88  \n",
            "2                      none          90             95             93  \n",
            "4                      none          76             78             75  \n",
            "5                      none          71             83             78  \n",
            "..                      ...         ...            ...            ...  \n",
            "995               completed          88             99             95  \n",
            "996                    none          62             55             55  \n",
            "997               completed          59             71             65  \n",
            "998               completed          68             78             77  \n",
            "999                    none          77             86             86  \n",
            "\n",
            "[850 rows x 8 columns]\n"
          ]
        }
      ]
    },
    {
      "cell_type": "code",
      "source": [
        "# Delete rows based on a condition\n",
        "df = df[df['test preparation course'] != 'none']\n",
        "print(df)"
      ],
      "metadata": {
        "colab": {
          "base_uri": "https://localhost:8080/"
        },
        "id": "6AWQyNWlzmWB",
        "outputId": "cf1f79b9-762c-48c6-d001-d1c637971269"
      },
      "execution_count": 11,
      "outputs": [
        {
          "output_type": "stream",
          "name": "stdout",
          "text": [
            "     gender race/ethnicity parental level of education         lunch  \\\n",
            "1    female        group C                some college      standard   \n",
            "6    female        group B                some college      standard   \n",
            "8      male        group D                 high school  free/reduced   \n",
            "13     male        group A                some college      standard   \n",
            "18     male        group C             master's degree  free/reduced   \n",
            "..      ...            ...                         ...           ...   \n",
            "990    male        group E                 high school  free/reduced   \n",
            "991  female        group B            some high school      standard   \n",
            "995  female        group E             master's degree      standard   \n",
            "997  female        group C                 high school  free/reduced   \n",
            "998  female        group D                some college      standard   \n",
            "\n",
            "    test preparation course  math score  reading score  writing score  \n",
            "1                 completed          69             90             88  \n",
            "6                 completed          88             95             92  \n",
            "8                 completed          64             64             67  \n",
            "13                completed          78             72             70  \n",
            "18                completed          46             42             46  \n",
            "..                      ...         ...            ...            ...  \n",
            "990               completed          86             81             75  \n",
            "991               completed          65             82             78  \n",
            "995               completed          88             99             95  \n",
            "997               completed          59             71             65  \n",
            "998               completed          68             78             77  \n",
            "\n",
            "[358 rows x 8 columns]\n"
          ]
        }
      ]
    },
    {
      "cell_type": "code",
      "source": [
        "# Delete columns\n",
        "df = df.drop(columns=['gender'])\n",
        "print(df)"
      ],
      "metadata": {
        "colab": {
          "base_uri": "https://localhost:8080/"
        },
        "id": "7IV_82_XzmY7",
        "outputId": "38aa7cc4-45c5-46b1-d035-92ff0c0f325e"
      },
      "execution_count": 12,
      "outputs": [
        {
          "output_type": "stream",
          "name": "stdout",
          "text": [
            "    race/ethnicity parental level of education         lunch  \\\n",
            "1          group C                some college      standard   \n",
            "6          group B                some college      standard   \n",
            "8          group D                 high school  free/reduced   \n",
            "13         group A                some college      standard   \n",
            "18         group C             master's degree  free/reduced   \n",
            "..             ...                         ...           ...   \n",
            "990        group E                 high school  free/reduced   \n",
            "991        group B            some high school      standard   \n",
            "995        group E             master's degree      standard   \n",
            "997        group C                 high school  free/reduced   \n",
            "998        group D                some college      standard   \n",
            "\n",
            "    test preparation course  math score  reading score  writing score  \n",
            "1                 completed          69             90             88  \n",
            "6                 completed          88             95             92  \n",
            "8                 completed          64             64             67  \n",
            "13                completed          78             72             70  \n",
            "18                completed          46             42             46  \n",
            "..                      ...         ...            ...            ...  \n",
            "990               completed          86             81             75  \n",
            "991               completed          65             82             78  \n",
            "995               completed          88             99             95  \n",
            "997               completed          59             71             65  \n",
            "998               completed          68             78             77  \n",
            "\n",
            "[358 rows x 7 columns]\n"
          ]
        }
      ]
    },
    {
      "cell_type": "code",
      "source": [
        "# (d) Perform ranking and sorting operations\n",
        "# Rank values in a column\n",
        "df['ranked_column'] = df['writing score'].rank()\n",
        "print(df)"
      ],
      "metadata": {
        "colab": {
          "base_uri": "https://localhost:8080/"
        },
        "id": "EU4dKjxizmdt",
        "outputId": "bc27af1b-3e8a-4920-9919-c3acf0a19f03"
      },
      "execution_count": 13,
      "outputs": [
        {
          "output_type": "stream",
          "name": "stdout",
          "text": [
            "    race/ethnicity parental level of education         lunch  \\\n",
            "1          group C                some college      standard   \n",
            "6          group B                some college      standard   \n",
            "8          group D                 high school  free/reduced   \n",
            "13         group A                some college      standard   \n",
            "18         group C             master's degree  free/reduced   \n",
            "..             ...                         ...           ...   \n",
            "990        group E                 high school  free/reduced   \n",
            "991        group B            some high school      standard   \n",
            "995        group E             master's degree      standard   \n",
            "997        group C                 high school  free/reduced   \n",
            "998        group D                some college      standard   \n",
            "\n",
            "    test preparation course  math score  reading score  writing score  \\\n",
            "1                 completed          69             90             88   \n",
            "6                 completed          88             95             92   \n",
            "8                 completed          64             64             67   \n",
            "13                completed          78             72             70   \n",
            "18                completed          46             42             46   \n",
            "..                      ...         ...            ...            ...   \n",
            "990               completed          86             81             75   \n",
            "991               completed          65             82             78   \n",
            "995               completed          88             99             95   \n",
            "997               completed          59             71             65   \n",
            "998               completed          68             78             77   \n",
            "\n",
            "     ranked_column  \n",
            "1            302.0  \n",
            "6            326.5  \n",
            "8             95.5  \n",
            "13           126.5  \n",
            "18            10.5  \n",
            "..             ...  \n",
            "990          171.0  \n",
            "991          208.0  \n",
            "995          340.0  \n",
            "997           81.0  \n",
            "998          194.5  \n",
            "\n",
            "[358 rows x 8 columns]\n"
          ]
        }
      ]
    },
    {
      "cell_type": "code",
      "source": [
        "# Sort the DataFrame by a column\n",
        "sorted_df = df.sort_values('writing score')\n",
        "print(sorted_df)"
      ],
      "metadata": {
        "colab": {
          "base_uri": "https://localhost:8080/"
        },
        "id": "2yq-pSXvzmja",
        "outputId": "8c4ced21-564e-4936-e44d-cdbbffcb2a53"
      },
      "execution_count": 14,
      "outputs": [
        {
          "output_type": "stream",
          "name": "stdout",
          "text": [
            "    race/ethnicity parental level of education         lunch  \\\n",
            "842        group B                 high school  free/reduced   \n",
            "862        group D           bachelor's degree  free/reduced   \n",
            "131        group C            some high school  free/reduced   \n",
            "902        group A                 high school  free/reduced   \n",
            "136        group B            some high school      standard   \n",
            "..             ...                         ...           ...   \n",
            "916        group E           bachelor's degree      standard   \n",
            "165        group C           bachelor's degree      standard   \n",
            "685        group E             master's degree      standard   \n",
            "903        group D           bachelor's degree  free/reduced   \n",
            "403        group D                 high school      standard   \n",
            "\n",
            "    test preparation course  math score  reading score  writing score  \\\n",
            "842               completed          23             44             36   \n",
            "862               completed          39             42             38   \n",
            "131               completed          53             37             40   \n",
            "902               completed          34             48             41   \n",
            "136               completed          51             54             41   \n",
            "..                      ...         ...            ...            ...   \n",
            "916               completed         100            100            100   \n",
            "165               completed          96            100            100   \n",
            "685               completed          94             99            100   \n",
            "903               completed          93            100            100   \n",
            "403               completed          88             99            100   \n",
            "\n",
            "     ranked_column  \n",
            "842            1.0  \n",
            "862            2.0  \n",
            "131            3.0  \n",
            "902            4.5  \n",
            "136            4.5  \n",
            "..             ...  \n",
            "916          354.0  \n",
            "165          354.0  \n",
            "685          354.0  \n",
            "903          354.0  \n",
            "403          354.0  \n",
            "\n",
            "[358 rows x 8 columns]\n"
          ]
        }
      ]
    },
    {
      "cell_type": "code",
      "source": [
        "# (e) Perform statistical operations on given columns\n",
        "# Calculate mean, median, and standard deviation\n",
        "mean_value = df['writing score'].mean()\n",
        "median_value = df['writing score'].median()\n",
        "std_value = df['writing score'].std()\n",
        "print(\"Mean\",mean_value)\n",
        "print(\"Median\",median_value)\n",
        "print(\"Standard deviation\",std_value)"
      ],
      "metadata": {
        "colab": {
          "base_uri": "https://localhost:8080/"
        },
        "id": "MZ1b8pVTzmoi",
        "outputId": "080fe555-e551-44ae-c186-33d5708a7340"
      },
      "execution_count": 15,
      "outputs": [
        {
          "output_type": "stream",
          "name": "stdout",
          "text": [
            "Mean 74.41899441340782\n",
            "Median 76.0\n",
            "Standard deviation 13.37533484363066\n"
          ]
        }
      ]
    },
    {
      "cell_type": "code",
      "source": [
        "# (f) Find count and uniqueness of categorical values\n",
        "# Count of unique values in a column\n",
        "count_values = df['writing score'].value_counts()\n",
        "print(count_values)"
      ],
      "metadata": {
        "colab": {
          "base_uri": "https://localhost:8080/"
        },
        "id": "JUjQ_TJ-zx07",
        "outputId": "1aa1a74c-2073-49ca-cb5d-e4bfafdd91dd"
      },
      "execution_count": 16,
      "outputs": [
        {
          "output_type": "stream",
          "name": "stdout",
          "text": [
            "80    15\n",
            "68    15\n",
            "77    14\n",
            "78    13\n",
            "81    13\n",
            "      ..\n",
            "55     1\n",
            "36     1\n",
            "38     1\n",
            "61     1\n",
            "48     1\n",
            "Name: writing score, Length: 61, dtype: int64\n"
          ]
        }
      ]
    },
    {
      "cell_type": "code",
      "source": [
        "# Number of unique values in a column\n",
        "unique_values = df['writing score'].nunique()\n",
        "print(unique_values)"
      ],
      "metadata": {
        "colab": {
          "base_uri": "https://localhost:8080/"
        },
        "id": "QQDck_8vzx4K",
        "outputId": "d8a68990-82fa-470d-84df-05fe85393366"
      },
      "execution_count": 17,
      "outputs": [
        {
          "output_type": "stream",
          "name": "stdout",
          "text": [
            "61\n"
          ]
        }
      ]
    },
    {
      "cell_type": "code",
      "source": [
        "# (g) Rename single/multiple columns\n",
        "# Rename a single column\n",
        "df = df.rename(columns={'writing score': 'Scored Marks'})\n",
        "print(df)"
      ],
      "metadata": {
        "colab": {
          "base_uri": "https://localhost:8080/"
        },
        "id": "Zi0-c4-Bz0ak",
        "outputId": "f4290412-86e8-47f8-ff37-4c841920ed13"
      },
      "execution_count": 18,
      "outputs": [
        {
          "output_type": "stream",
          "name": "stdout",
          "text": [
            "    race/ethnicity parental level of education         lunch  \\\n",
            "1          group C                some college      standard   \n",
            "6          group B                some college      standard   \n",
            "8          group D                 high school  free/reduced   \n",
            "13         group A                some college      standard   \n",
            "18         group C             master's degree  free/reduced   \n",
            "..             ...                         ...           ...   \n",
            "990        group E                 high school  free/reduced   \n",
            "991        group B            some high school      standard   \n",
            "995        group E             master's degree      standard   \n",
            "997        group C                 high school  free/reduced   \n",
            "998        group D                some college      standard   \n",
            "\n",
            "    test preparation course  math score  reading score  Scored Marks  \\\n",
            "1                 completed          69             90            88   \n",
            "6                 completed          88             95            92   \n",
            "8                 completed          64             64            67   \n",
            "13                completed          78             72            70   \n",
            "18                completed          46             42            46   \n",
            "..                      ...         ...            ...           ...   \n",
            "990               completed          86             81            75   \n",
            "991               completed          65             82            78   \n",
            "995               completed          88             99            95   \n",
            "997               completed          59             71            65   \n",
            "998               completed          68             78            77   \n",
            "\n",
            "     ranked_column  \n",
            "1            302.0  \n",
            "6            326.5  \n",
            "8             95.5  \n",
            "13           126.5  \n",
            "18            10.5  \n",
            "..             ...  \n",
            "990          171.0  \n",
            "991          208.0  \n",
            "995          340.0  \n",
            "997           81.0  \n",
            "998          194.5  \n",
            "\n",
            "[358 rows x 8 columns]\n"
          ]
        }
      ]
    },
    {
      "cell_type": "code",
      "source": [
        "# Rename multiple columns\n",
        "df = df.rename(columns={'Scored Marks': 'writing score', 'ranked_column': 'Ranks'})\n",
        "print(df)"
      ],
      "metadata": {
        "colab": {
          "base_uri": "https://localhost:8080/"
        },
        "id": "yAN4IkZ5z0co",
        "outputId": "9e0fc24f-7e2c-4470-92eb-70fd48850c29"
      },
      "execution_count": 19,
      "outputs": [
        {
          "output_type": "stream",
          "name": "stdout",
          "text": [
            "    race/ethnicity parental level of education         lunch  \\\n",
            "1          group C                some college      standard   \n",
            "6          group B                some college      standard   \n",
            "8          group D                 high school  free/reduced   \n",
            "13         group A                some college      standard   \n",
            "18         group C             master's degree  free/reduced   \n",
            "..             ...                         ...           ...   \n",
            "990        group E                 high school  free/reduced   \n",
            "991        group B            some high school      standard   \n",
            "995        group E             master's degree      standard   \n",
            "997        group C                 high school  free/reduced   \n",
            "998        group D                some college      standard   \n",
            "\n",
            "    test preparation course  math score  reading score  writing score  Ranks  \n",
            "1                 completed          69             90             88  302.0  \n",
            "6                 completed          88             95             92  326.5  \n",
            "8                 completed          64             64             67   95.5  \n",
            "13                completed          78             72             70  126.5  \n",
            "18                completed          46             42             46   10.5  \n",
            "..                      ...         ...            ...            ...    ...  \n",
            "990               completed          86             81             75  171.0  \n",
            "991               completed          65             82             78  208.0  \n",
            "995               completed          88             99             95  340.0  \n",
            "997               completed          59             71             65   81.0  \n",
            "998               completed          68             78             77  194.5  \n",
            "\n",
            "[358 rows x 8 columns]\n"
          ]
        }
      ]
    }
  ]
}