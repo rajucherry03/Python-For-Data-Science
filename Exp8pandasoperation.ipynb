{
  "nbformat": 4,
  "nbformat_minor": 0,
  "metadata": {
    "colab": {
      "provenance": [],
      "authorship_tag": "ABX9TyPxLOIlVCqqty4B42kxyKqA",
      "include_colab_link": true
    },
    "kernelspec": {
      "name": "python3",
      "display_name": "Python 3"
    },
    "language_info": {
      "name": "python"
    }
  },
  "cells": [
    {
      "cell_type": "markdown",
      "metadata": {
        "id": "view-in-github",
        "colab_type": "text"
      },
      "source": [
        "<a href=\"https://colab.research.google.com/github/rajucherry03/Python-For-Data-Science/blob/main/Exp8pandasoperation.ipynb\" target=\"_parent\"><img src=\"https://colab.research.google.com/assets/colab-badge.svg\" alt=\"Open In Colab\"/></a>"
      ]
    },
    {
      "cell_type": "code",
      "execution_count": 1,
      "metadata": {
        "colab": {
          "base_uri": "https://localhost:8080/"
        },
        "id": "vbeO8hG9zfVz",
        "outputId": "9bf33c8a-f7a2-4a01-d9d5-162ee972287e"
      },
      "outputs": [
        {
          "output_type": "stream",
          "name": "stdout",
          "text": [
            "Mounted at /content/drive/\n"
          ]
        }
      ],
      "source": [
        "from google.colab import drive\n",
        "drive.mount('/content/drive/')"
      ]
    },
    {
      "cell_type": "code",
      "source": [
        "import pandas as pd\n",
        "df=pd.read_csv('/content/drive/MyDrive/1-Pds Lab/StudentsPerformance.csv')\n",
        "df.head()\n"
      ],
      "metadata": {
        "colab": {
          "base_uri": "https://localhost:8080/",
          "height": 206
        },
        "id": "HPiNNIXvzmDz",
        "outputId": "e9044298-1ea6-46e7-ecf3-fcfa38bf16ba"
      },
      "execution_count": 31,
      "outputs": [
        {
          "output_type": "execute_result",
          "data": {
            "text/plain": [
              "   gender race/ethnicity parental level of education         lunch  \\\n",
              "0  female        group B           bachelor's degree      standard   \n",
              "1  female        group C                some college      standard   \n",
              "2  female        group B             master's degree      standard   \n",
              "3    male        group A          associate's degree  free/reduced   \n",
              "4    male        group C                some college      standard   \n",
              "\n",
              "  test preparation course  math score  reading score  writing score  \n",
              "0                    none          72             72             74  \n",
              "1               completed          69             90             88  \n",
              "2                    none          90             95             93  \n",
              "3                    none          47             57             44  \n",
              "4                    none          76             78             75  "
            ],
            "text/html": [
              "\n",
              "  <div id=\"df-c1438b67-8365-41b5-b29d-077f4b55e327\">\n",
              "    <div class=\"colab-df-container\">\n",
              "      <div>\n",
              "<style scoped>\n",
              "    .dataframe tbody tr th:only-of-type {\n",
              "        vertical-align: middle;\n",
              "    }\n",
              "\n",
              "    .dataframe tbody tr th {\n",
              "        vertical-align: top;\n",
              "    }\n",
              "\n",
              "    .dataframe thead th {\n",
              "        text-align: right;\n",
              "    }\n",
              "</style>\n",
              "<table border=\"1\" class=\"dataframe\">\n",
              "  <thead>\n",
              "    <tr style=\"text-align: right;\">\n",
              "      <th></th>\n",
              "      <th>gender</th>\n",
              "      <th>race/ethnicity</th>\n",
              "      <th>parental level of education</th>\n",
              "      <th>lunch</th>\n",
              "      <th>test preparation course</th>\n",
              "      <th>math score</th>\n",
              "      <th>reading score</th>\n",
              "      <th>writing score</th>\n",
              "    </tr>\n",
              "  </thead>\n",
              "  <tbody>\n",
              "    <tr>\n",
              "      <th>0</th>\n",
              "      <td>female</td>\n",
              "      <td>group B</td>\n",
              "      <td>bachelor's degree</td>\n",
              "      <td>standard</td>\n",
              "      <td>none</td>\n",
              "      <td>72</td>\n",
              "      <td>72</td>\n",
              "      <td>74</td>\n",
              "    </tr>\n",
              "    <tr>\n",
              "      <th>1</th>\n",
              "      <td>female</td>\n",
              "      <td>group C</td>\n",
              "      <td>some college</td>\n",
              "      <td>standard</td>\n",
              "      <td>completed</td>\n",
              "      <td>69</td>\n",
              "      <td>90</td>\n",
              "      <td>88</td>\n",
              "    </tr>\n",
              "    <tr>\n",
              "      <th>2</th>\n",
              "      <td>female</td>\n",
              "      <td>group B</td>\n",
              "      <td>master's degree</td>\n",
              "      <td>standard</td>\n",
              "      <td>none</td>\n",
              "      <td>90</td>\n",
              "      <td>95</td>\n",
              "      <td>93</td>\n",
              "    </tr>\n",
              "    <tr>\n",
              "      <th>3</th>\n",
              "      <td>male</td>\n",
              "      <td>group A</td>\n",
              "      <td>associate's degree</td>\n",
              "      <td>free/reduced</td>\n",
              "      <td>none</td>\n",
              "      <td>47</td>\n",
              "      <td>57</td>\n",
              "      <td>44</td>\n",
              "    </tr>\n",
              "    <tr>\n",
              "      <th>4</th>\n",
              "      <td>male</td>\n",
              "      <td>group C</td>\n",
              "      <td>some college</td>\n",
              "      <td>standard</td>\n",
              "      <td>none</td>\n",
              "      <td>76</td>\n",
              "      <td>78</td>\n",
              "      <td>75</td>\n",
              "    </tr>\n",
              "  </tbody>\n",
              "</table>\n",
              "</div>\n",
              "      <button class=\"colab-df-convert\" onclick=\"convertToInteractive('df-c1438b67-8365-41b5-b29d-077f4b55e327')\"\n",
              "              title=\"Convert this dataframe to an interactive table.\"\n",
              "              style=\"display:none;\">\n",
              "        \n",
              "  <svg xmlns=\"http://www.w3.org/2000/svg\" height=\"24px\"viewBox=\"0 0 24 24\"\n",
              "       width=\"24px\">\n",
              "    <path d=\"M0 0h24v24H0V0z\" fill=\"none\"/>\n",
              "    <path d=\"M18.56 5.44l.94 2.06.94-2.06 2.06-.94-2.06-.94-.94-2.06-.94 2.06-2.06.94zm-11 1L8.5 8.5l.94-2.06 2.06-.94-2.06-.94L8.5 2.5l-.94 2.06-2.06.94zm10 10l.94 2.06.94-2.06 2.06-.94-2.06-.94-.94-2.06-.94 2.06-2.06.94z\"/><path d=\"M17.41 7.96l-1.37-1.37c-.4-.4-.92-.59-1.43-.59-.52 0-1.04.2-1.43.59L10.3 9.45l-7.72 7.72c-.78.78-.78 2.05 0 2.83L4 21.41c.39.39.9.59 1.41.59.51 0 1.02-.2 1.41-.59l7.78-7.78 2.81-2.81c.8-.78.8-2.07 0-2.86zM5.41 20L4 18.59l7.72-7.72 1.47 1.35L5.41 20z\"/>\n",
              "  </svg>\n",
              "      </button>\n",
              "      \n",
              "  <style>\n",
              "    .colab-df-container {\n",
              "      display:flex;\n",
              "      flex-wrap:wrap;\n",
              "      gap: 12px;\n",
              "    }\n",
              "\n",
              "    .colab-df-convert {\n",
              "      background-color: #E8F0FE;\n",
              "      border: none;\n",
              "      border-radius: 50%;\n",
              "      cursor: pointer;\n",
              "      display: none;\n",
              "      fill: #1967D2;\n",
              "      height: 32px;\n",
              "      padding: 0 0 0 0;\n",
              "      width: 32px;\n",
              "    }\n",
              "\n",
              "    .colab-df-convert:hover {\n",
              "      background-color: #E2EBFA;\n",
              "      box-shadow: 0px 1px 2px rgba(60, 64, 67, 0.3), 0px 1px 3px 1px rgba(60, 64, 67, 0.15);\n",
              "      fill: #174EA6;\n",
              "    }\n",
              "\n",
              "    [theme=dark] .colab-df-convert {\n",
              "      background-color: #3B4455;\n",
              "      fill: #D2E3FC;\n",
              "    }\n",
              "\n",
              "    [theme=dark] .colab-df-convert:hover {\n",
              "      background-color: #434B5C;\n",
              "      box-shadow: 0px 1px 3px 1px rgba(0, 0, 0, 0.15);\n",
              "      filter: drop-shadow(0px 1px 2px rgba(0, 0, 0, 0.3));\n",
              "      fill: #FFFFFF;\n",
              "    }\n",
              "  </style>\n",
              "\n",
              "      <script>\n",
              "        const buttonEl =\n",
              "          document.querySelector('#df-c1438b67-8365-41b5-b29d-077f4b55e327 button.colab-df-convert');\n",
              "        buttonEl.style.display =\n",
              "          google.colab.kernel.accessAllowed ? 'block' : 'none';\n",
              "\n",
              "        async function convertToInteractive(key) {\n",
              "          const element = document.querySelector('#df-c1438b67-8365-41b5-b29d-077f4b55e327');\n",
              "          const dataTable =\n",
              "            await google.colab.kernel.invokeFunction('convertToInteractive',\n",
              "                                                     [key], {});\n",
              "          if (!dataTable) return;\n",
              "\n",
              "          const docLinkHtml = 'Like what you see? Visit the ' +\n",
              "            '<a target=\"_blank\" href=https://colab.research.google.com/notebooks/data_table.ipynb>data table notebook</a>'\n",
              "            + ' to learn more about interactive tables.';\n",
              "          element.innerHTML = '';\n",
              "          dataTable['output_type'] = 'display_data';\n",
              "          await google.colab.output.renderOutput(dataTable, element);\n",
              "          const docLink = document.createElement('div');\n",
              "          docLink.innerHTML = docLinkHtml;\n",
              "          element.appendChild(docLink);\n",
              "        }\n",
              "      </script>\n",
              "    </div>\n",
              "  </div>\n",
              "  "
            ]
          },
          "metadata": {},
          "execution_count": 31
        }
      ]
    },
    {
      "cell_type": "code",
      "source": [
        "df.tail()"
      ],
      "metadata": {
        "colab": {
          "base_uri": "https://localhost:8080/",
          "height": 206
        },
        "id": "w2E2bUcL7jWx",
        "outputId": "ec99bf4c-5aed-43cd-f68d-603a653cb560"
      },
      "execution_count": 30,
      "outputs": [
        {
          "output_type": "execute_result",
          "data": {
            "text/plain": [
              "     gender race/ethnicity parental level of education         lunch  \\\n",
              "995  female        group E             master's degree      standard   \n",
              "996    male        group C                 high school  free/reduced   \n",
              "997  female        group C                 high school  free/reduced   \n",
              "998  female        group D                some college      standard   \n",
              "999  female        group D                some college  free/reduced   \n",
              "\n",
              "    test preparation course  math score  reading score  writing score  \n",
              "995               completed          88             99             95  \n",
              "996                    none          62             55             55  \n",
              "997               completed          59             71             65  \n",
              "998               completed          68             78             77  \n",
              "999                    none          77             86             86  "
            ],
            "text/html": [
              "\n",
              "  <div id=\"df-b68c0a89-3ef5-445d-833f-d040e94dd169\">\n",
              "    <div class=\"colab-df-container\">\n",
              "      <div>\n",
              "<style scoped>\n",
              "    .dataframe tbody tr th:only-of-type {\n",
              "        vertical-align: middle;\n",
              "    }\n",
              "\n",
              "    .dataframe tbody tr th {\n",
              "        vertical-align: top;\n",
              "    }\n",
              "\n",
              "    .dataframe thead th {\n",
              "        text-align: right;\n",
              "    }\n",
              "</style>\n",
              "<table border=\"1\" class=\"dataframe\">\n",
              "  <thead>\n",
              "    <tr style=\"text-align: right;\">\n",
              "      <th></th>\n",
              "      <th>gender</th>\n",
              "      <th>race/ethnicity</th>\n",
              "      <th>parental level of education</th>\n",
              "      <th>lunch</th>\n",
              "      <th>test preparation course</th>\n",
              "      <th>math score</th>\n",
              "      <th>reading score</th>\n",
              "      <th>writing score</th>\n",
              "    </tr>\n",
              "  </thead>\n",
              "  <tbody>\n",
              "    <tr>\n",
              "      <th>995</th>\n",
              "      <td>female</td>\n",
              "      <td>group E</td>\n",
              "      <td>master's degree</td>\n",
              "      <td>standard</td>\n",
              "      <td>completed</td>\n",
              "      <td>88</td>\n",
              "      <td>99</td>\n",
              "      <td>95</td>\n",
              "    </tr>\n",
              "    <tr>\n",
              "      <th>996</th>\n",
              "      <td>male</td>\n",
              "      <td>group C</td>\n",
              "      <td>high school</td>\n",
              "      <td>free/reduced</td>\n",
              "      <td>none</td>\n",
              "      <td>62</td>\n",
              "      <td>55</td>\n",
              "      <td>55</td>\n",
              "    </tr>\n",
              "    <tr>\n",
              "      <th>997</th>\n",
              "      <td>female</td>\n",
              "      <td>group C</td>\n",
              "      <td>high school</td>\n",
              "      <td>free/reduced</td>\n",
              "      <td>completed</td>\n",
              "      <td>59</td>\n",
              "      <td>71</td>\n",
              "      <td>65</td>\n",
              "    </tr>\n",
              "    <tr>\n",
              "      <th>998</th>\n",
              "      <td>female</td>\n",
              "      <td>group D</td>\n",
              "      <td>some college</td>\n",
              "      <td>standard</td>\n",
              "      <td>completed</td>\n",
              "      <td>68</td>\n",
              "      <td>78</td>\n",
              "      <td>77</td>\n",
              "    </tr>\n",
              "    <tr>\n",
              "      <th>999</th>\n",
              "      <td>female</td>\n",
              "      <td>group D</td>\n",
              "      <td>some college</td>\n",
              "      <td>free/reduced</td>\n",
              "      <td>none</td>\n",
              "      <td>77</td>\n",
              "      <td>86</td>\n",
              "      <td>86</td>\n",
              "    </tr>\n",
              "  </tbody>\n",
              "</table>\n",
              "</div>\n",
              "      <button class=\"colab-df-convert\" onclick=\"convertToInteractive('df-b68c0a89-3ef5-445d-833f-d040e94dd169')\"\n",
              "              title=\"Convert this dataframe to an interactive table.\"\n",
              "              style=\"display:none;\">\n",
              "        \n",
              "  <svg xmlns=\"http://www.w3.org/2000/svg\" height=\"24px\"viewBox=\"0 0 24 24\"\n",
              "       width=\"24px\">\n",
              "    <path d=\"M0 0h24v24H0V0z\" fill=\"none\"/>\n",
              "    <path d=\"M18.56 5.44l.94 2.06.94-2.06 2.06-.94-2.06-.94-.94-2.06-.94 2.06-2.06.94zm-11 1L8.5 8.5l.94-2.06 2.06-.94-2.06-.94L8.5 2.5l-.94 2.06-2.06.94zm10 10l.94 2.06.94-2.06 2.06-.94-2.06-.94-.94-2.06-.94 2.06-2.06.94z\"/><path d=\"M17.41 7.96l-1.37-1.37c-.4-.4-.92-.59-1.43-.59-.52 0-1.04.2-1.43.59L10.3 9.45l-7.72 7.72c-.78.78-.78 2.05 0 2.83L4 21.41c.39.39.9.59 1.41.59.51 0 1.02-.2 1.41-.59l7.78-7.78 2.81-2.81c.8-.78.8-2.07 0-2.86zM5.41 20L4 18.59l7.72-7.72 1.47 1.35L5.41 20z\"/>\n",
              "  </svg>\n",
              "      </button>\n",
              "      \n",
              "  <style>\n",
              "    .colab-df-container {\n",
              "      display:flex;\n",
              "      flex-wrap:wrap;\n",
              "      gap: 12px;\n",
              "    }\n",
              "\n",
              "    .colab-df-convert {\n",
              "      background-color: #E8F0FE;\n",
              "      border: none;\n",
              "      border-radius: 50%;\n",
              "      cursor: pointer;\n",
              "      display: none;\n",
              "      fill: #1967D2;\n",
              "      height: 32px;\n",
              "      padding: 0 0 0 0;\n",
              "      width: 32px;\n",
              "    }\n",
              "\n",
              "    .colab-df-convert:hover {\n",
              "      background-color: #E2EBFA;\n",
              "      box-shadow: 0px 1px 2px rgba(60, 64, 67, 0.3), 0px 1px 3px 1px rgba(60, 64, 67, 0.15);\n",
              "      fill: #174EA6;\n",
              "    }\n",
              "\n",
              "    [theme=dark] .colab-df-convert {\n",
              "      background-color: #3B4455;\n",
              "      fill: #D2E3FC;\n",
              "    }\n",
              "\n",
              "    [theme=dark] .colab-df-convert:hover {\n",
              "      background-color: #434B5C;\n",
              "      box-shadow: 0px 1px 3px 1px rgba(0, 0, 0, 0.15);\n",
              "      filter: drop-shadow(0px 1px 2px rgba(0, 0, 0, 0.3));\n",
              "      fill: #FFFFFF;\n",
              "    }\n",
              "  </style>\n",
              "\n",
              "      <script>\n",
              "        const buttonEl =\n",
              "          document.querySelector('#df-b68c0a89-3ef5-445d-833f-d040e94dd169 button.colab-df-convert');\n",
              "        buttonEl.style.display =\n",
              "          google.colab.kernel.accessAllowed ? 'block' : 'none';\n",
              "\n",
              "        async function convertToInteractive(key) {\n",
              "          const element = document.querySelector('#df-b68c0a89-3ef5-445d-833f-d040e94dd169');\n",
              "          const dataTable =\n",
              "            await google.colab.kernel.invokeFunction('convertToInteractive',\n",
              "                                                     [key], {});\n",
              "          if (!dataTable) return;\n",
              "\n",
              "          const docLinkHtml = 'Like what you see? Visit the ' +\n",
              "            '<a target=\"_blank\" href=https://colab.research.google.com/notebooks/data_table.ipynb>data table notebook</a>'\n",
              "            + ' to learn more about interactive tables.';\n",
              "          element.innerHTML = '';\n",
              "          dataTable['output_type'] = 'display_data';\n",
              "          await google.colab.output.renderOutput(dataTable, element);\n",
              "          const docLink = document.createElement('div');\n",
              "          docLink.innerHTML = docLinkHtml;\n",
              "          element.appendChild(docLink);\n",
              "        }\n",
              "      </script>\n",
              "    </div>\n",
              "  </div>\n",
              "  "
            ]
          },
          "metadata": {},
          "execution_count": 30
        }
      ]
    },
    {
      "cell_type": "code",
      "source": [
        "# (a) Visualize the first and last 10 records\n",
        "print(\"First 10 records:\")\n",
        "print(df.head(10))\n",
        "print(\"Last 10 records:\")\n",
        "print(df.tail(10))"
      ],
      "metadata": {
        "colab": {
          "base_uri": "https://localhost:8080/"
        },
        "id": "y_m4Vq4_zmIv",
        "outputId": "d8d29265-4985-4b1d-97fa-3eeafb9c1b6b"
      },
      "execution_count": 25,
      "outputs": [
        {
          "output_type": "stream",
          "name": "stdout",
          "text": [
            "First 10 records:\n",
            "   race/ethnicity parental level of education         lunch  \\\n",
            "1         group C                some college      standard   \n",
            "6         group B                some college      standard   \n",
            "8         group D                 high school  free/reduced   \n",
            "13        group A                some college      standard   \n",
            "18        group C             master's degree  free/reduced   \n",
            "21        group B                some college  free/reduced   \n",
            "24        group D           bachelor's degree  free/reduced   \n",
            "35        group E          associate's degree      standard   \n",
            "38        group D          associate's degree  free/reduced   \n",
            "43        group B                some college  free/reduced   \n",
            "\n",
            "   test preparation course  math score  reading score  writing score  Ranks  \n",
            "1                completed          69             90             88  302.0  \n",
            "6                completed          88             95             92  326.5  \n",
            "8                completed          64             64             67   95.5  \n",
            "13               completed          78             72             70  126.5  \n",
            "18               completed          46             42             46   10.5  \n",
            "21               completed          65             75             70  126.5  \n",
            "24               completed          74             71             80  234.0  \n",
            "35               completed          81             81             79  220.5  \n",
            "38               completed          75             90             88  302.0  \n",
            "43               completed          59             65             66   88.0  \n",
            "Last 10 records:\n",
            "    race/ethnicity parental level of education         lunch  \\\n",
            "978        group D                 high school      standard   \n",
            "982        group B            some high school      standard   \n",
            "983        group A                some college      standard   \n",
            "987        group E            some high school      standard   \n",
            "989        group D                some college  free/reduced   \n",
            "990        group E                 high school  free/reduced   \n",
            "991        group B            some high school      standard   \n",
            "995        group E             master's degree      standard   \n",
            "997        group C                 high school  free/reduced   \n",
            "998        group D                some college      standard   \n",
            "\n",
            "    test preparation course  math score  reading score  writing score  Ranks  \n",
            "978               completed          55             41             48   13.0  \n",
            "982               completed          79             85             86  288.0  \n",
            "983               completed          78             87             91  320.0  \n",
            "987               completed          81             75             76  181.5  \n",
            "989               completed          67             86             83  267.0  \n",
            "990               completed          86             81             75  171.0  \n",
            "991               completed          65             82             78  208.0  \n",
            "995               completed          88             99             95  340.0  \n",
            "997               completed          59             71             65   81.0  \n",
            "998               completed          68             78             77  194.5  \n"
          ]
        }
      ]
    },
    {
      "cell_type": "code",
      "source": [
        "# (b) Get the shape, index, and column details\n",
        "print(\"Shape:\", df.shape)\n",
        "print(\"Index:\", df.index)\n",
        "print(\"Columns:\", df.columns)"
      ],
      "metadata": {
        "colab": {
          "base_uri": "https://localhost:8080/"
        },
        "id": "UYqRv9x3zmMR",
        "outputId": "8139f0dc-eda2-4382-bcb8-2aba1716b7af"
      },
      "execution_count": 32,
      "outputs": [
        {
          "output_type": "stream",
          "name": "stdout",
          "text": [
            "Shape: (1000, 8)\n",
            "Index: RangeIndex(start=0, stop=1000, step=1)\n",
            "Columns: Index(['gender', 'race/ethnicity', 'parental level of education', 'lunch',\n",
            "       'test preparation course', 'math score', 'reading score',\n",
            "       'writing score'],\n",
            "      dtype='object')\n"
          ]
        }
      ]
    },
    {
      "cell_type": "code",
      "source": [
        "# (c) Select/Delete records(rows)/columns based on conditions\n",
        "# Select rows based on a condition\n",
        "selected_rows = df[df['math score'] > 50]\n",
        "print(selected_rows)"
      ],
      "metadata": {
        "colab": {
          "base_uri": "https://localhost:8080/"
        },
        "id": "MqgikBxqzmRr",
        "outputId": "c3207f36-36e2-419b-b227-3e2a57ce9aad"
      },
      "execution_count": 33,
      "outputs": [
        {
          "output_type": "stream",
          "name": "stdout",
          "text": [
            "     gender race/ethnicity parental level of education         lunch  \\\n",
            "0    female        group B           bachelor's degree      standard   \n",
            "1    female        group C                some college      standard   \n",
            "2    female        group B             master's degree      standard   \n",
            "4      male        group C                some college      standard   \n",
            "5    female        group B          associate's degree      standard   \n",
            "..      ...            ...                         ...           ...   \n",
            "995  female        group E             master's degree      standard   \n",
            "996    male        group C                 high school  free/reduced   \n",
            "997  female        group C                 high school  free/reduced   \n",
            "998  female        group D                some college      standard   \n",
            "999  female        group D                some college  free/reduced   \n",
            "\n",
            "    test preparation course  math score  reading score  writing score  \n",
            "0                      none          72             72             74  \n",
            "1                 completed          69             90             88  \n",
            "2                      none          90             95             93  \n",
            "4                      none          76             78             75  \n",
            "5                      none          71             83             78  \n",
            "..                      ...         ...            ...            ...  \n",
            "995               completed          88             99             95  \n",
            "996                    none          62             55             55  \n",
            "997               completed          59             71             65  \n",
            "998               completed          68             78             77  \n",
            "999                    none          77             86             86  \n",
            "\n",
            "[850 rows x 8 columns]\n"
          ]
        }
      ]
    },
    {
      "cell_type": "code",
      "source": [
        "# Delete rows based on a condition\n",
        "df = df[df['test preparation course'] != 'none']\n",
        "print(df)"
      ],
      "metadata": {
        "colab": {
          "base_uri": "https://localhost:8080/"
        },
        "id": "6AWQyNWlzmWB",
        "outputId": "76c0190c-aa1f-44ab-956a-96fe6c328df3"
      },
      "execution_count": 36,
      "outputs": [
        {
          "output_type": "stream",
          "name": "stdout",
          "text": [
            "     gender race/ethnicity parental level of education         lunch  \\\n",
            "1    female        group C                some college      standard   \n",
            "6    female        group B                some college      standard   \n",
            "8      male        group D                 high school  free/reduced   \n",
            "13     male        group A                some college      standard   \n",
            "18     male        group C             master's degree  free/reduced   \n",
            "..      ...            ...                         ...           ...   \n",
            "990    male        group E                 high school  free/reduced   \n",
            "991  female        group B            some high school      standard   \n",
            "995  female        group E             master's degree      standard   \n",
            "997  female        group C                 high school  free/reduced   \n",
            "998  female        group D                some college      standard   \n",
            "\n",
            "    test preparation course  math score  reading score  writing score  \n",
            "1                 completed          69             90             88  \n",
            "6                 completed          88             95             92  \n",
            "8                 completed          64             64             67  \n",
            "13                completed          78             72             70  \n",
            "18                completed          46             42             46  \n",
            "..                      ...         ...            ...            ...  \n",
            "990               completed          86             81             75  \n",
            "991               completed          65             82             78  \n",
            "995               completed          88             99             95  \n",
            "997               completed          59             71             65  \n",
            "998               completed          68             78             77  \n",
            "\n",
            "[358 rows x 8 columns]\n"
          ]
        }
      ]
    },
    {
      "cell_type": "code",
      "source": [
        "# Delete columns\n",
        "df = df.drop(columns=['test preparation course'])\n",
        "print(df)"
      ],
      "metadata": {
        "colab": {
          "base_uri": "https://localhost:8080/"
        },
        "id": "7IV_82_XzmY7",
        "outputId": "feff4ddd-a811-4489-eb6f-be7405d65248"
      },
      "execution_count": 37,
      "outputs": [
        {
          "output_type": "stream",
          "name": "stdout",
          "text": [
            "     gender race/ethnicity parental level of education         lunch  \\\n",
            "1    female        group C                some college      standard   \n",
            "6    female        group B                some college      standard   \n",
            "8      male        group D                 high school  free/reduced   \n",
            "13     male        group A                some college      standard   \n",
            "18     male        group C             master's degree  free/reduced   \n",
            "..      ...            ...                         ...           ...   \n",
            "990    male        group E                 high school  free/reduced   \n",
            "991  female        group B            some high school      standard   \n",
            "995  female        group E             master's degree      standard   \n",
            "997  female        group C                 high school  free/reduced   \n",
            "998  female        group D                some college      standard   \n",
            "\n",
            "     math score  reading score  writing score  \n",
            "1            69             90             88  \n",
            "6            88             95             92  \n",
            "8            64             64             67  \n",
            "13           78             72             70  \n",
            "18           46             42             46  \n",
            "..          ...            ...            ...  \n",
            "990          86             81             75  \n",
            "991          65             82             78  \n",
            "995          88             99             95  \n",
            "997          59             71             65  \n",
            "998          68             78             77  \n",
            "\n",
            "[358 rows x 7 columns]\n"
          ]
        }
      ]
    },
    {
      "cell_type": "code",
      "source": [
        "# (d) Perform ranking and sorting operations\n",
        "# Rank values in a column\n",
        "df['ranked_column'] = df['math score'].rank()\n",
        "print(df)"
      ],
      "metadata": {
        "colab": {
          "base_uri": "https://localhost:8080/"
        },
        "id": "EU4dKjxizmdt",
        "outputId": "357fccde-815a-4554-cf4d-14ac29894c07"
      },
      "execution_count": 40,
      "outputs": [
        {
          "output_type": "stream",
          "name": "stdout",
          "text": [
            "     gender race/ethnicity parental level of education         lunch  \\\n",
            "1    female        group C                some college      standard   \n",
            "6    female        group B                some college      standard   \n",
            "8      male        group D                 high school  free/reduced   \n",
            "13     male        group A                some college      standard   \n",
            "18     male        group C             master's degree  free/reduced   \n",
            "..      ...            ...                         ...           ...   \n",
            "990    male        group E                 high school  free/reduced   \n",
            "991  female        group B            some high school      standard   \n",
            "995  female        group E             master's degree      standard   \n",
            "997  female        group C                 high school  free/reduced   \n",
            "998  female        group D                some college      standard   \n",
            "\n",
            "     math score  reading score  writing score  ranked_column  \n",
            "1            69             90             88          177.5  \n",
            "6            88             95             92          320.5  \n",
            "8            64             64             67          120.5  \n",
            "13           78             72             70          256.0  \n",
            "18           46             42             46           19.5  \n",
            "..          ...            ...            ...            ...  \n",
            "990          86             81             75          306.0  \n",
            "991          65             82             78          131.5  \n",
            "995          88             99             95          320.5  \n",
            "997          59             71             65           82.0  \n",
            "998          68             78             77          167.0  \n",
            "\n",
            "[358 rows x 8 columns]\n"
          ]
        }
      ]
    },
    {
      "cell_type": "code",
      "source": [
        "# Sort the DataFrame by a column\n",
        "sorted_df = df.sort_values('math score')\n",
        "print(sorted_df)"
      ],
      "metadata": {
        "colab": {
          "base_uri": "https://localhost:8080/"
        },
        "id": "2yq-pSXvzmja",
        "outputId": "f0100e2e-1d05-4c1c-c707-8069e61e52d2"
      },
      "execution_count": 41,
      "outputs": [
        {
          "output_type": "stream",
          "name": "stdout",
          "text": [
            "     gender race/ethnicity parental level of education         lunch  \\\n",
            "842  female        group B                 high school  free/reduced   \n",
            "683  female        group C            some high school  free/reduced   \n",
            "785  female        group B            some high school      standard   \n",
            "902  female        group A                 high school  free/reduced   \n",
            "339  female        group D            some high school  free/reduced   \n",
            "..      ...            ...                         ...           ...   \n",
            "306    male        group E                some college      standard   \n",
            "916    male        group E           bachelor's degree      standard   \n",
            "149    male        group E          associate's degree  free/reduced   \n",
            "623    male        group A                some college      standard   \n",
            "625    male        group D                some college      standard   \n",
            "\n",
            "     math score  reading score  writing score  ranked_column  \n",
            "842          23             44             36            1.0  \n",
            "683          29             40             44            2.0  \n",
            "785          32             51             44            3.0  \n",
            "902          34             48             41            4.0  \n",
            "339          35             55             60            5.0  \n",
            "..          ...            ...            ...            ...  \n",
            "306          99             87             81          353.5  \n",
            "916         100            100            100          356.5  \n",
            "149         100            100             93          356.5  \n",
            "623         100             96             86          356.5  \n",
            "625         100             97             99          356.5  \n",
            "\n",
            "[358 rows x 8 columns]\n"
          ]
        }
      ]
    },
    {
      "cell_type": "code",
      "source": [
        "# (e) Perform statistical operations on given columns\n",
        "# Calculate mean, median, and standard deviation\n",
        "mean_value = df['math score'].mean()\n",
        "median_value = df['math score'].median()\n",
        "std_value = df['math score'].std()\n",
        "print(\"Mean\",mean_value)\n",
        "print(\"Median\",median_value)\n",
        "print(\"Standard deviation\",std_value)"
      ],
      "metadata": {
        "colab": {
          "base_uri": "https://localhost:8080/"
        },
        "id": "MZ1b8pVTzmoi",
        "outputId": "1a272b6c-b150-4aef-ddc5-23ef875acbd1"
      },
      "execution_count": 42,
      "outputs": [
        {
          "output_type": "stream",
          "name": "stdout",
          "text": [
            "Mean 69.69553072625699\n",
            "Median 69.0\n",
            "Standard deviation 14.444699225388476\n"
          ]
        }
      ]
    },
    {
      "cell_type": "code",
      "source": [
        "# (f) Find count and uniqueness of categorical values\n",
        "# Count of unique values in a column\n",
        "count_values = df['math score'].value_counts()\n",
        "print(count_values)"
      ],
      "metadata": {
        "colab": {
          "base_uri": "https://localhost:8080/"
        },
        "id": "JUjQ_TJ-zx07",
        "outputId": "d65d98d6-4595-43b8-b977-371cf9376639"
      },
      "execution_count": 44,
      "outputs": [
        {
          "output_type": "stream",
          "name": "stdout",
          "text": [
            "65    16\n",
            "67    14\n",
            "77    11\n",
            "68    11\n",
            "74    11\n",
            "      ..\n",
            "29     1\n",
            "32     1\n",
            "23     1\n",
            "39     1\n",
            "34     1\n",
            "Name: math score, Length: 66, dtype: int64\n"
          ]
        }
      ]
    },
    {
      "cell_type": "code",
      "source": [
        "# Number of unique values in a column\n",
        "unique_values = df['math score'].nunique()\n",
        "print(unique_values)"
      ],
      "metadata": {
        "colab": {
          "base_uri": "https://localhost:8080/"
        },
        "id": "QQDck_8vzx4K",
        "outputId": "8c70b982-84d7-43b3-ad65-f3e44114a7db"
      },
      "execution_count": 43,
      "outputs": [
        {
          "output_type": "stream",
          "name": "stdout",
          "text": [
            "66\n"
          ]
        }
      ]
    },
    {
      "cell_type": "code",
      "source": [
        "# (g) Rename single/multiple columns\n",
        "# Rename a single column\n",
        "df = df.rename(columns={'math score': 'MATH score'})\n",
        "print(df)"
      ],
      "metadata": {
        "colab": {
          "base_uri": "https://localhost:8080/"
        },
        "id": "Zi0-c4-Bz0ak",
        "outputId": "ccbbbed0-99c9-4c0d-fc46-91a5c1e32928"
      },
      "execution_count": 45,
      "outputs": [
        {
          "output_type": "stream",
          "name": "stdout",
          "text": [
            "     gender race/ethnicity parental level of education         lunch  \\\n",
            "1    female        group C                some college      standard   \n",
            "6    female        group B                some college      standard   \n",
            "8      male        group D                 high school  free/reduced   \n",
            "13     male        group A                some college      standard   \n",
            "18     male        group C             master's degree  free/reduced   \n",
            "..      ...            ...                         ...           ...   \n",
            "990    male        group E                 high school  free/reduced   \n",
            "991  female        group B            some high school      standard   \n",
            "995  female        group E             master's degree      standard   \n",
            "997  female        group C                 high school  free/reduced   \n",
            "998  female        group D                some college      standard   \n",
            "\n",
            "     MATH score  reading score  writing score  ranked_column  \n",
            "1            69             90             88          177.5  \n",
            "6            88             95             92          320.5  \n",
            "8            64             64             67          120.5  \n",
            "13           78             72             70          256.0  \n",
            "18           46             42             46           19.5  \n",
            "..          ...            ...            ...            ...  \n",
            "990          86             81             75          306.0  \n",
            "991          65             82             78          131.5  \n",
            "995          88             99             95          320.5  \n",
            "997          59             71             65           82.0  \n",
            "998          68             78             77          167.0  \n",
            "\n",
            "[358 rows x 8 columns]\n"
          ]
        }
      ]
    },
    {
      "cell_type": "code",
      "source": [
        "# Rename multiple columns\n",
        "df = df.rename(columns={'math score': 'MAT sc', 'ranked_column': 'Ranks'})\n",
        "print(df)"
      ],
      "metadata": {
        "colab": {
          "base_uri": "https://localhost:8080/"
        },
        "id": "yAN4IkZ5z0co",
        "outputId": "dc496c55-dd5f-44cd-88dc-242db3578705"
      },
      "execution_count": 46,
      "outputs": [
        {
          "output_type": "stream",
          "name": "stdout",
          "text": [
            "     gender race/ethnicity parental level of education         lunch  \\\n",
            "1    female        group C                some college      standard   \n",
            "6    female        group B                some college      standard   \n",
            "8      male        group D                 high school  free/reduced   \n",
            "13     male        group A                some college      standard   \n",
            "18     male        group C             master's degree  free/reduced   \n",
            "..      ...            ...                         ...           ...   \n",
            "990    male        group E                 high school  free/reduced   \n",
            "991  female        group B            some high school      standard   \n",
            "995  female        group E             master's degree      standard   \n",
            "997  female        group C                 high school  free/reduced   \n",
            "998  female        group D                some college      standard   \n",
            "\n",
            "     MATH score  reading score  writing score  Ranks  \n",
            "1            69             90             88  177.5  \n",
            "6            88             95             92  320.5  \n",
            "8            64             64             67  120.5  \n",
            "13           78             72             70  256.0  \n",
            "18           46             42             46   19.5  \n",
            "..          ...            ...            ...    ...  \n",
            "990          86             81             75  306.0  \n",
            "991          65             82             78  131.5  \n",
            "995          88             99             95  320.5  \n",
            "997          59             71             65   82.0  \n",
            "998          68             78             77  167.0  \n",
            "\n",
            "[358 rows x 8 columns]\n"
          ]
        }
      ]
    }
  ]
}